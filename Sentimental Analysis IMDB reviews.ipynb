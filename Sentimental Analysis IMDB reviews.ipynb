{
 "cells": [
  {
   "cell_type": "markdown",
   "id": "a94a6d15",
   "metadata": {},
   "source": [
    "### Author: Subham Moda\n",
    "\n",
    "Importing the required libraries."
   ]
  },
  {
   "cell_type": "code",
   "execution_count": 2,
   "id": "d8f51b54",
   "metadata": {},
   "outputs": [],
   "source": [
    "import pandas as pd\n",
    "import numpy as np\n",
    "import nltk\n",
    "from nltk.sentiment.vader import SentimentIntensityAnalyzer\n",
    "from sklearn.metrics import classification_report, confusion_matrix, f1_score\n",
    "import matplotlib.pyplot as plt\n",
    "import spacy\n",
    "import seaborn as sns\n",
    "import re\n",
    "import gensim\n",
    "from gensim.models import Word2Vec\n",
    "import string\n",
    "from nltk.tokenize import word_tokenize\n",
    "from nltk.stem import WordNetLemmatizer\n",
    "from nltk.cluster import KMeansClusterer,cosine_distance,euclidean_distance\n",
    "from sklearn.model_selection import train_test_split\n",
    "from sklearn.feature_extraction.text import TfidfVectorizer\n",
    "import time"
   ]
  },
  {
   "cell_type": "code",
   "execution_count": 2,
   "id": "a17a898e",
   "metadata": {},
   "outputs": [],
   "source": [
    "def remove_stopwords(docs):\n",
    "    \n",
    "    token = [word for word in docs if word not in stopwords]\n",
    "    return token"
   ]
  },
  {
   "cell_type": "markdown",
   "id": "d92b10c9",
   "metadata": {},
   "source": [
    "Importing the data from csv created earlier and formatting the dataframe."
   ]
  },
  {
   "cell_type": "code",
   "execution_count": 53,
   "id": "c86e06f5",
   "metadata": {},
   "outputs": [
    {
     "data": {
      "text/html": [
       "<div>\n",
       "<style scoped>\n",
       "    .dataframe tbody tr th:only-of-type {\n",
       "        vertical-align: middle;\n",
       "    }\n",
       "\n",
       "    .dataframe tbody tr th {\n",
       "        vertical-align: top;\n",
       "    }\n",
       "\n",
       "    .dataframe thead th {\n",
       "        text-align: right;\n",
       "    }\n",
       "</style>\n",
       "<table border=\"1\" class=\"dataframe\">\n",
       "  <thead>\n",
       "    <tr style=\"text-align: right;\">\n",
       "      <th></th>\n",
       "      <th>movie_title</th>\n",
       "      <th>review_title</th>\n",
       "      <th>review</th>\n",
       "      <th>rating</th>\n",
       "      <th>sentiment_label</th>\n",
       "      <th>tokenized_reviews</th>\n",
       "    </tr>\n",
       "  </thead>\n",
       "  <tbody>\n",
       "    <tr>\n",
       "      <th>6624</th>\n",
       "      <td>The Adjustment Bureau (2011)</td>\n",
       "      <td>Crappy trailer</td>\n",
       "      <td>I really liked this movie, but I can't believe...</td>\n",
       "      <td>1</td>\n",
       "      <td>0</td>\n",
       "      <td>[really, like, this, movie, but, can, not, bel...</td>\n",
       "    </tr>\n",
       "    <tr>\n",
       "      <th>1723</th>\n",
       "      <td>Inception (2010)</td>\n",
       "      <td>Dickian dreams</td>\n",
       "      <td>Say what you want of Nolan, the new populist d...</td>\n",
       "      <td>8</td>\n",
       "      <td>1</td>\n",
       "      <td>[say, what, you, want, of, Nolan, the, new, po...</td>\n",
       "    </tr>\n",
       "    <tr>\n",
       "      <th>3420</th>\n",
       "      <td>The Parent Trap (1998)</td>\n",
       "      <td>Watched this at least 20 times</td>\n",
       "      <td>No joke, there is no movie I've seen more time...</td>\n",
       "      <td>7</td>\n",
       "      <td>1</td>\n",
       "      <td>[no, joke, there, be, no, movie, ve, see, more...</td>\n",
       "    </tr>\n",
       "    <tr>\n",
       "      <th>3737</th>\n",
       "      <td>Cocaine Bear (2023)</td>\n",
       "      <td>For better or worse, it's the exact movie you...</td>\n",
       "      <td>Cocaine Bear offers little beyond the trailers...</td>\n",
       "      <td>6</td>\n",
       "      <td>1</td>\n",
       "      <td>[Cocaine, Bear, offer, little, beyond, the, tr...</td>\n",
       "    </tr>\n",
       "    <tr>\n",
       "      <th>6711</th>\n",
       "      <td>Life of Pi (2012)</td>\n",
       "      <td>A Boy, a Tiger, and God</td>\n",
       "      <td>Within the first ten minutes, the titular prot...</td>\n",
       "      <td>8</td>\n",
       "      <td>1</td>\n",
       "      <td>[within, the, first, ten, minute, the, titular...</td>\n",
       "    </tr>\n",
       "    <tr>\n",
       "      <th>7720</th>\n",
       "      <td>Grown Ups (I) (2010)</td>\n",
       "      <td>substandard for Adam Sandler</td>\n",
       "      <td>This movie had some laughs, but it was pretty ...</td>\n",
       "      <td>5</td>\n",
       "      <td>0</td>\n",
       "      <td>[this, movie, have, some, laugh, but, it, be, ...</td>\n",
       "    </tr>\n",
       "    <tr>\n",
       "      <th>8773</th>\n",
       "      <td>You Don't Mess with the Zohan (2008)</td>\n",
       "      <td>Don't watch this if you want to laugh</td>\n",
       "      <td>The story line was crappy as hell. I felt like...</td>\n",
       "      <td>1</td>\n",
       "      <td>0</td>\n",
       "      <td>[the, story, line, be, crappy, as, hell, feel,...</td>\n",
       "    </tr>\n",
       "    <tr>\n",
       "      <th>1751</th>\n",
       "      <td>Inception (2010)</td>\n",
       "      <td>The conception of Inception is a deception</td>\n",
       "      <td>I must have seen a different film than all tho...</td>\n",
       "      <td>6</td>\n",
       "      <td>1</td>\n",
       "      <td>[must, have, see, different, film, than, all, ...</td>\n",
       "    </tr>\n",
       "    <tr>\n",
       "      <th>8731</th>\n",
       "      <td>You Don't Mess with the Zohan (2008)</td>\n",
       "      <td>If you need cheering up, this shocking film w...</td>\n",
       "      <td>Why do I listen to what's top 3 on Netflix!!! ...</td>\n",
       "      <td>7</td>\n",
       "      <td>1</td>\n",
       "      <td>[why, do, listen, to, what, be, top, on, Netfl...</td>\n",
       "    </tr>\n",
       "    <tr>\n",
       "      <th>2088</th>\n",
       "      <td>Easy A (2010)</td>\n",
       "      <td>More gossip than Gossip Girl and it's better!</td>\n",
       "      <td>Thank you Emma Stone for helping this movie be...</td>\n",
       "      <td>7</td>\n",
       "      <td>1</td>\n",
       "      <td>[thank, you, Emma, Stone, for, help, this, mov...</td>\n",
       "    </tr>\n",
       "  </tbody>\n",
       "</table>\n",
       "</div>"
      ],
      "text/plain": [
       "                               movie_title  \\\n",
       "6624          The Adjustment Bureau (2011)   \n",
       "1723                      Inception (2010)   \n",
       "3420                The Parent Trap (1998)   \n",
       "3737                   Cocaine Bear (2023)   \n",
       "6711                     Life of Pi (2012)   \n",
       "7720                  Grown Ups (I) (2010)   \n",
       "8773  You Don't Mess with the Zohan (2008)   \n",
       "1751                      Inception (2010)   \n",
       "8731  You Don't Mess with the Zohan (2008)   \n",
       "2088                         Easy A (2010)   \n",
       "\n",
       "                                           review_title  \\\n",
       "6624                                     Crappy trailer   \n",
       "1723                                     Dickian dreams   \n",
       "3420                     Watched this at least 20 times   \n",
       "3737   For better or worse, it's the exact movie you...   \n",
       "6711                            A Boy, a Tiger, and God   \n",
       "7720                       substandard for Adam Sandler   \n",
       "8773              Don't watch this if you want to laugh   \n",
       "1751         The conception of Inception is a deception   \n",
       "8731   If you need cheering up, this shocking film w...   \n",
       "2088      More gossip than Gossip Girl and it's better!   \n",
       "\n",
       "                                                 review  rating  \\\n",
       "6624  I really liked this movie, but I can't believe...       1   \n",
       "1723  Say what you want of Nolan, the new populist d...       8   \n",
       "3420  No joke, there is no movie I've seen more time...       7   \n",
       "3737  Cocaine Bear offers little beyond the trailers...       6   \n",
       "6711  Within the first ten minutes, the titular prot...       8   \n",
       "7720  This movie had some laughs, but it was pretty ...       5   \n",
       "8773  The story line was crappy as hell. I felt like...       1   \n",
       "1751  I must have seen a different film than all tho...       6   \n",
       "8731  Why do I listen to what's top 3 on Netflix!!! ...       7   \n",
       "2088  Thank you Emma Stone for helping this movie be...       7   \n",
       "\n",
       "      sentiment_label                                  tokenized_reviews  \n",
       "6624                0  [really, like, this, movie, but, can, not, bel...  \n",
       "1723                1  [say, what, you, want, of, Nolan, the, new, po...  \n",
       "3420                1  [no, joke, there, be, no, movie, ve, see, more...  \n",
       "3737                1  [Cocaine, Bear, offer, little, beyond, the, tr...  \n",
       "6711                1  [within, the, first, ten, minute, the, titular...  \n",
       "7720                0  [this, movie, have, some, laugh, but, it, be, ...  \n",
       "8773                0  [the, story, line, be, crappy, as, hell, feel,...  \n",
       "1751                1  [must, have, see, different, film, than, all, ...  \n",
       "8731                1  [why, do, listen, to, what, be, top, on, Netfl...  \n",
       "2088                1  [thank, you, Emma, Stone, for, help, this, mov...  "
      ]
     },
     "execution_count": 53,
     "metadata": {},
     "output_type": "execute_result"
    }
   ],
   "source": [
    "data = pd.read_csv('movie_data.csv')\n",
    "data.drop(columns={'Unnamed: 0', 'rating_sentiment'}, inplace=True)\n",
    "data['tokenized_reviews'] = data['tokenized_reviews'].apply(eval)\n",
    "data.sample(10)"
   ]
  },
  {
   "cell_type": "markdown",
   "id": "4f36ebc4",
   "metadata": {},
   "source": [
    "Selecting the required columns for analysis"
   ]
  },
  {
   "cell_type": "code",
   "execution_count": 4,
   "id": "33edc485",
   "metadata": {},
   "outputs": [
    {
     "data": {
      "text/html": [
       "<div>\n",
       "<style scoped>\n",
       "    .dataframe tbody tr th:only-of-type {\n",
       "        vertical-align: middle;\n",
       "    }\n",
       "\n",
       "    .dataframe tbody tr th {\n",
       "        vertical-align: top;\n",
       "    }\n",
       "\n",
       "    .dataframe thead th {\n",
       "        text-align: right;\n",
       "    }\n",
       "</style>\n",
       "<table border=\"1\" class=\"dataframe\">\n",
       "  <thead>\n",
       "    <tr style=\"text-align: right;\">\n",
       "      <th></th>\n",
       "      <th>review</th>\n",
       "      <th>tokenized_reviews</th>\n",
       "      <th>rating</th>\n",
       "      <th>sentiment_label</th>\n",
       "    </tr>\n",
       "  </thead>\n",
       "  <tbody>\n",
       "    <tr>\n",
       "      <th>5930</th>\n",
       "      <td>This film was never going to be a masterpiece ...</td>\n",
       "      <td>[this, film, be, never, go, to, be, masterpiec...</td>\n",
       "      <td>6</td>\n",
       "      <td>1</td>\n",
       "    </tr>\n",
       "    <tr>\n",
       "      <th>6476</th>\n",
       "      <td>Sometimes a flawed and somewhat predictable mo...</td>\n",
       "      <td>[sometimes, flawed, and, somewhat, predictable...</td>\n",
       "      <td>7</td>\n",
       "      <td>1</td>\n",
       "    </tr>\n",
       "    <tr>\n",
       "      <th>3935</th>\n",
       "      <td>This movie is utterly dreadful. However, I did...</td>\n",
       "      <td>[this, movie, be, utterly, dreadful, however, ...</td>\n",
       "      <td>1</td>\n",
       "      <td>0</td>\n",
       "    </tr>\n",
       "    <tr>\n",
       "      <th>2153</th>\n",
       "      <td>THE FOUNDER (2016) ***1/2 Michael Keaton, Nick...</td>\n",
       "      <td>[the, FOUNDER, 2016, 1/2, Michael, Keaton, Nic...</td>\n",
       "      <td>9</td>\n",
       "      <td>1</td>\n",
       "    </tr>\n",
       "    <tr>\n",
       "      <th>2867</th>\n",
       "      <td>Back in 2008 (or 2009, who cares?) We got our ...</td>\n",
       "      <td>[back, in, 2008, or, 2009, who, care, we, get,...</td>\n",
       "      <td>10</td>\n",
       "      <td>1</td>\n",
       "    </tr>\n",
       "  </tbody>\n",
       "</table>\n",
       "</div>"
      ],
      "text/plain": [
       "                                                 review  \\\n",
       "5930  This film was never going to be a masterpiece ...   \n",
       "6476  Sometimes a flawed and somewhat predictable mo...   \n",
       "3935  This movie is utterly dreadful. However, I did...   \n",
       "2153  THE FOUNDER (2016) ***1/2 Michael Keaton, Nick...   \n",
       "2867  Back in 2008 (or 2009, who cares?) We got our ...   \n",
       "\n",
       "                                      tokenized_reviews  rating  \\\n",
       "5930  [this, film, be, never, go, to, be, masterpiec...       6   \n",
       "6476  [sometimes, flawed, and, somewhat, predictable...       7   \n",
       "3935  [this, movie, be, utterly, dreadful, however, ...       1   \n",
       "2153  [the, FOUNDER, 2016, 1/2, Michael, Keaton, Nic...       9   \n",
       "2867  [back, in, 2008, or, 2009, who, care, we, get,...      10   \n",
       "\n",
       "      sentiment_label  \n",
       "5930                1  \n",
       "6476                1  \n",
       "3935                0  \n",
       "2153                1  \n",
       "2867                1  "
      ]
     },
     "execution_count": 4,
     "metadata": {},
     "output_type": "execute_result"
    }
   ],
   "source": [
    "review_data = data[['review','tokenized_reviews','rating','sentiment_label']]\n",
    "review_data.sample(5)"
   ]
  },
  {
   "cell_type": "markdown",
   "id": "09f9e6d2",
   "metadata": {},
   "source": [
    "Adjusting the words present in stopwords"
   ]
  },
  {
   "cell_type": "code",
   "execution_count": 9,
   "id": "b57a3cc2",
   "metadata": {},
   "outputs": [
    {
     "name": "stdout",
     "output_type": "stream",
     "text": [
      "['i', 'me', 'my', 'myself', 'we', 'our', 'ours', 'ourselves', 'you', \"you're\", \"you've\", \"you'll\", \"you'd\", 'your', 'yours', 'yourself', 'yourselves', 'he', 'him', 'his', 'himself', 'she', \"she's\", 'her', 'hers', 'herself', 'it', \"it's\", 'its', 'itself', 'they', 'them', 'their', 'theirs', 'themselves', 'what', 'which', 'who', 'whom', 'this', 'that', \"that'll\", 'these', 'those', 'am', 'is', 'are', 'was', 'were', 'be', 'been', 'being', 'have', 'has', 'had', 'having', 'do', 'does', 'did', 'doing', 'a', 'an', 'the', 'and', 'but', 'if', 'or', 'because', 'as', 'until', 'while', 'of', 'at', 'by', 'for', 'with', 'about', 'against', 'between', 'into', 'through', 'during', 'before', 'after', 'above', 'below', 'to', 'from', 'up', 'down', 'in', 'out', 'on', 'off', 'over', 'under', 'again', 'further', 'then', 'once', 'here', 'there', 'when', 'where', 'why', 'how', 'all', 'any', 'both', 'each', 'few', 'more', 'most', 'other', 'some', 'such', 'only', 'own', 'same', 'so', 'than', 'too', 'very', 's', 't', 'can', 'will', 'just', 'don', \"don't\", 'should', \"should've\", 'now', 'd', 'll', 'm', 'o', 're', 've', 'y', 'ain', 'aren', \"aren't\", 'couldn', \"couldn't\", 'didn', \"didn't\", 'doesn', \"doesn't\", 'hadn', \"hadn't\", 'hasn', \"hasn't\", 'haven', \"haven't\", 'isn', \"isn't\", 'ma', 'mightn', \"mightn't\", 'mustn', \"mustn't\", 'needn', \"needn't\", 'shan', \"shan't\", 'shouldn', \"shouldn't\", 'wasn', \"wasn't\", 'weren', \"weren't\", 'won', \"won't\", 'wouldn', \"wouldn't\"]\n"
     ]
    }
   ],
   "source": [
    "stopwords = nltk.corpus.stopwords.words('english')\n",
    "stopwords.remove('no')\n",
    "stopwords.remove('not')\n",
    "stopwords.remove('nor')\n",
    "print(stopwords)"
   ]
  },
  {
   "cell_type": "markdown",
   "id": "3ef498c1",
   "metadata": {},
   "source": [
    "## VADER Sentiment on plain text reviews"
   ]
  },
  {
   "cell_type": "code",
   "execution_count": 7,
   "id": "a7fc20ee",
   "metadata": {},
   "outputs": [
    {
     "data": {
      "text/html": [
       "<div>\n",
       "<style scoped>\n",
       "    .dataframe tbody tr th:only-of-type {\n",
       "        vertical-align: middle;\n",
       "    }\n",
       "\n",
       "    .dataframe tbody tr th {\n",
       "        vertical-align: top;\n",
       "    }\n",
       "\n",
       "    .dataframe thead th {\n",
       "        text-align: right;\n",
       "    }\n",
       "</style>\n",
       "<table border=\"1\" class=\"dataframe\">\n",
       "  <thead>\n",
       "    <tr style=\"text-align: right;\">\n",
       "      <th></th>\n",
       "      <th>review</th>\n",
       "      <th>tokenized_reviews</th>\n",
       "      <th>rating</th>\n",
       "      <th>sentiment_label</th>\n",
       "    </tr>\n",
       "  </thead>\n",
       "  <tbody>\n",
       "    <tr>\n",
       "      <th>5026</th>\n",
       "      <td>I do occasionally read something from the best...</td>\n",
       "      <td>[do, occasionally, read, something, from, the,...</td>\n",
       "      <td>6</td>\n",
       "      <td>1</td>\n",
       "    </tr>\n",
       "    <tr>\n",
       "      <th>1773</th>\n",
       "      <td>'Home Alone' has succeeded in establishing its...</td>\n",
       "      <td>[home, alone, have, succeed, in, establish, it...</td>\n",
       "      <td>10</td>\n",
       "      <td>1</td>\n",
       "    </tr>\n",
       "    <tr>\n",
       "      <th>1682</th>\n",
       "      <td>This movie was (and is) beloved by everyone so...</td>\n",
       "      <td>[this, movie, be, and, be, belove, by, everyon...</td>\n",
       "      <td>6</td>\n",
       "      <td>1</td>\n",
       "    </tr>\n",
       "    <tr>\n",
       "      <th>803</th>\n",
       "      <td>Before i start my review, i'd like to note tha...</td>\n",
       "      <td>[before, start, my, review, would, like, to, n...</td>\n",
       "      <td>7</td>\n",
       "      <td>1</td>\n",
       "    </tr>\n",
       "    <tr>\n",
       "      <th>4206</th>\n",
       "      <td>I watched the first hour and a half of this mo...</td>\n",
       "      <td>[watch, the, first, hour, and, half, of, this,...</td>\n",
       "      <td>10</td>\n",
       "      <td>1</td>\n",
       "    </tr>\n",
       "  </tbody>\n",
       "</table>\n",
       "</div>"
      ],
      "text/plain": [
       "                                                 review  \\\n",
       "5026  I do occasionally read something from the best...   \n",
       "1773  'Home Alone' has succeeded in establishing its...   \n",
       "1682  This movie was (and is) beloved by everyone so...   \n",
       "803   Before i start my review, i'd like to note tha...   \n",
       "4206  I watched the first hour and a half of this mo...   \n",
       "\n",
       "                                      tokenized_reviews  rating  \\\n",
       "5026  [do, occasionally, read, something, from, the,...       6   \n",
       "1773  [home, alone, have, succeed, in, establish, it...      10   \n",
       "1682  [this, movie, be, and, be, belove, by, everyon...       6   \n",
       "803   [before, start, my, review, would, like, to, n...       7   \n",
       "4206  [watch, the, first, hour, and, half, of, this,...      10   \n",
       "\n",
       "      sentiment_label  \n",
       "5026                1  \n",
       "1773                1  \n",
       "1682                1  \n",
       "803                 1  \n",
       "4206                1  "
      ]
     },
     "execution_count": 7,
     "metadata": {},
     "output_type": "execute_result"
    }
   ],
   "source": [
    "vader_data = review_data.copy()\n",
    "vader_data.sample(5)"
   ]
  },
  {
   "cell_type": "markdown",
   "id": "8c9bf214",
   "metadata": {},
   "source": [
    "Running vader sentiment algorithm and predicting based on the compound value of the text, if >0 sentiment is considered to be positive, else negative."
   ]
  },
  {
   "cell_type": "code",
   "execution_count": 8,
   "id": "de81d9db",
   "metadata": {},
   "outputs": [],
   "source": [
    "pred_sentiment = []\n",
    "sia = SentimentIntensityAnalyzer()\n",
    "for x in vader_data['review']:\n",
    "    score = sia.polarity_scores(x)['compound']\n",
    "    if score > 0:\n",
    "        pred_sentiment.append(1)\n",
    "    else:\n",
    "        pred_sentiment.append(0)\n",
    "vader_data['pred_sentiment'] = pred_sentiment"
   ]
  },
  {
   "cell_type": "markdown",
   "id": "c218372b",
   "metadata": {},
   "source": [
    "Classification report for the vader sentiment analysis."
   ]
  },
  {
   "cell_type": "code",
   "execution_count": 9,
   "id": "62cb01f9",
   "metadata": {},
   "outputs": [
    {
     "name": "stdout",
     "output_type": "stream",
     "text": [
      "              precision    recall  f1-score   support\n",
      "\n",
      "           0       0.66      0.46      0.54      2873\n",
      "           1       0.80      0.90      0.85      6792\n",
      "\n",
      "    accuracy                           0.77      9665\n",
      "   macro avg       0.73      0.68      0.69      9665\n",
      "weighted avg       0.76      0.77      0.76      9665\n",
      "\n"
     ]
    }
   ],
   "source": [
    "print(classification_report(vader_data['sentiment_label'], vader_data['pred_sentiment']))"
   ]
  },
  {
   "cell_type": "markdown",
   "id": "592032a3",
   "metadata": {},
   "source": [
    "Confusion matrix for vader sentiment analysis."
   ]
  },
  {
   "cell_type": "code",
   "execution_count": 10,
   "id": "1bf5af18",
   "metadata": {},
   "outputs": [
    {
     "data": {
      "image/png": "[encoded data removed]",
      "text/plain": [
       "<Figure size 640x480 with 2 Axes>"
      ]
     },
     "metadata": {},
     "output_type": "display_data"
    }
   ],
   "source": [
    "definitions = ['Negative','Positive']\n",
    "con_matrix = confusion_matrix(vader_data['sentiment_label'], vader_data['pred_sentiment'])\n",
    "sns.heatmap(con_matrix, annot=True, xticklabels=definitions, yticklabels=definitions, fmt=\".0f\", cmap=\"crest\")\n",
    "plt.xlabel('Predicted') \n",
    "plt.ylabel('Actual') \n",
    "plt.show()"
   ]
  },
  {
   "cell_type": "markdown",
   "id": "8b0035c9",
   "metadata": {},
   "source": [
    "## VADER Sentiment on tokenized text reviews"
   ]
  },
  {
   "cell_type": "code",
   "execution_count": 12,
   "id": "bbf9f7da",
   "metadata": {},
   "outputs": [
    {
     "data": {
      "text/html": [
       "<div>\n",
       "<style scoped>\n",
       "    .dataframe tbody tr th:only-of-type {\n",
       "        vertical-align: middle;\n",
       "    }\n",
       "\n",
       "    .dataframe tbody tr th {\n",
       "        vertical-align: top;\n",
       "    }\n",
       "\n",
       "    .dataframe thead th {\n",
       "        text-align: right;\n",
       "    }\n",
       "</style>\n",
       "<table border=\"1\" class=\"dataframe\">\n",
       "  <thead>\n",
       "    <tr style=\"text-align: right;\">\n",
       "      <th></th>\n",
       "      <th>review</th>\n",
       "      <th>tokenized_reviews</th>\n",
       "      <th>rating</th>\n",
       "      <th>sentiment_label</th>\n",
       "    </tr>\n",
       "  </thead>\n",
       "  <tbody>\n",
       "    <tr>\n",
       "      <th>3134</th>\n",
       "      <td>Sky High (2005): Dir: Mike Mitchell / Cast: Mi...</td>\n",
       "      <td>[Sky, High, 2005, , Dir, Mike, Mitchell, Cast,...</td>\n",
       "      <td>3</td>\n",
       "      <td>0</td>\n",
       "    </tr>\n",
       "    <tr>\n",
       "      <th>2221</th>\n",
       "      <td>Of the many times I have eaten there, I never ...</td>\n",
       "      <td>[of, the, many, time, have, eat, there, never,...</td>\n",
       "      <td>10</td>\n",
       "      <td>1</td>\n",
       "    </tr>\n",
       "    <tr>\n",
       "      <th>1397</th>\n",
       "      <td>5/10 - stunning cinematography and some massiv...</td>\n",
       "      <td>[5/10, stunning, cinematography, and, some, ma...</td>\n",
       "      <td>5</td>\n",
       "      <td>0</td>\n",
       "    </tr>\n",
       "    <tr>\n",
       "      <th>8258</th>\n",
       "      <td>This is a very funny movie and movies like tha...</td>\n",
       "      <td>[this, be, very, funny, movie, and, movie, lik...</td>\n",
       "      <td>8</td>\n",
       "      <td>1</td>\n",
       "    </tr>\n",
       "    <tr>\n",
       "      <th>8726</th>\n",
       "      <td>In The Mask a demonic visage gets released upo...</td>\n",
       "      <td>[in, the, Mask, demonic, visage, gets, release...</td>\n",
       "      <td>6</td>\n",
       "      <td>1</td>\n",
       "    </tr>\n",
       "  </tbody>\n",
       "</table>\n",
       "</div>"
      ],
      "text/plain": [
       "                                                 review  \\\n",
       "3134  Sky High (2005): Dir: Mike Mitchell / Cast: Mi...   \n",
       "2221  Of the many times I have eaten there, I never ...   \n",
       "1397  5/10 - stunning cinematography and some massiv...   \n",
       "8258  This is a very funny movie and movies like tha...   \n",
       "8726  In The Mask a demonic visage gets released upo...   \n",
       "\n",
       "                                      tokenized_reviews  rating  \\\n",
       "3134  [Sky, High, 2005, , Dir, Mike, Mitchell, Cast,...       3   \n",
       "2221  [of, the, many, time, have, eat, there, never,...      10   \n",
       "1397  [5/10, stunning, cinematography, and, some, ma...       5   \n",
       "8258  [this, be, very, funny, movie, and, movie, lik...       8   \n",
       "8726  [in, the, Mask, demonic, visage, gets, release...       6   \n",
       "\n",
       "      sentiment_label  \n",
       "3134                0  \n",
       "2221                1  \n",
       "1397                0  \n",
       "8258                1  \n",
       "8726                1  "
      ]
     },
     "execution_count": 12,
     "metadata": {},
     "output_type": "execute_result"
    }
   ],
   "source": [
    "vader_data = review_data.copy()\n",
    "vader_data.sample(5)"
   ]
  },
  {
   "cell_type": "markdown",
   "id": "ab08502b",
   "metadata": {},
   "source": [
    "Running vader sentiment algorithm and predicting based on the compound value of the tokens, if >0 sentiment is considered to be positive, else negative."
   ]
  },
  {
   "cell_type": "code",
   "execution_count": 13,
   "id": "439e081b",
   "metadata": {},
   "outputs": [],
   "source": [
    "pred_sentiment = []\n",
    "sia = SentimentIntensityAnalyzer()\n",
    "for x in vader_data['tokenized_reviews']:\n",
    "    score = sia.polarity_scores(' '.join(x))['compound']\n",
    "    if score > 0:\n",
    "        pred_sentiment.append(1)\n",
    "    else:\n",
    "        pred_sentiment.append(0)\n",
    "vader_data['pred_sentiment'] = pred_sentiment"
   ]
  },
  {
   "cell_type": "markdown",
   "id": "a6e364a3",
   "metadata": {},
   "source": [
    "Classification report for the vader sentiment analysis."
   ]
  },
  {
   "cell_type": "code",
   "execution_count": 14,
   "id": "25227ea2",
   "metadata": {},
   "outputs": [
    {
     "name": "stdout",
     "output_type": "stream",
     "text": [
      "              precision    recall  f1-score   support\n",
      "\n",
      "           0       0.66      0.46      0.54      2873\n",
      "           1       0.80      0.90      0.85      6792\n",
      "\n",
      "    accuracy                           0.77      9665\n",
      "   macro avg       0.73      0.68      0.69      9665\n",
      "weighted avg       0.76      0.77      0.76      9665\n",
      "\n"
     ]
    }
   ],
   "source": [
    "print(classification_report(vader_data['sentiment_label'], vader_data['pred_sentiment']))"
   ]
  },
  {
   "cell_type": "markdown",
   "id": "1da8d39e",
   "metadata": {},
   "source": [
    "Confusion matrix for vader sentiment analysis."
   ]
  },
  {
   "cell_type": "code",
   "execution_count": 15,
   "id": "3d676f8b",
   "metadata": {},
   "outputs": [
    {
     "data": {
      "image/png": "[encoded data removed]",
      "text/plain": [
       "<Figure size 640x480 with 2 Axes>"
      ]
     },
     "metadata": {},
     "output_type": "display_data"
    }
   ],
   "source": [
    "definitions = ['Negative','Positive']\n",
    "con_matrix = confusion_matrix(vader_data['sentiment_label'], vader_data['pred_sentiment'])\n",
    "sns.heatmap(con_matrix, annot=True, xticklabels=definitions, yticklabels=definitions, fmt=\".0f\", cmap=\"crest\")\n",
    "plt.xlabel('Predicted') \n",
    "plt.ylabel('Actual') \n",
    "plt.show()"
   ]
  },
  {
   "cell_type": "markdown",
   "id": "709c5c71",
   "metadata": {},
   "source": [
    "## VADER Sentiment on tokenized text reviews without stopwords"
   ]
  },
  {
   "cell_type": "code",
   "execution_count": 220,
   "id": "e57c9be7",
   "metadata": {},
   "outputs": [
    {
     "data": {
      "text/html": [
       "<div>\n",
       "<style scoped>\n",
       "    .dataframe tbody tr th:only-of-type {\n",
       "        vertical-align: middle;\n",
       "    }\n",
       "\n",
       "    .dataframe tbody tr th {\n",
       "        vertical-align: top;\n",
       "    }\n",
       "\n",
       "    .dataframe thead th {\n",
       "        text-align: right;\n",
       "    }\n",
       "</style>\n",
       "<table border=\"1\" class=\"dataframe\">\n",
       "  <thead>\n",
       "    <tr style=\"text-align: right;\">\n",
       "      <th></th>\n",
       "      <th>review</th>\n",
       "      <th>tokenized_reviews</th>\n",
       "      <th>rating</th>\n",
       "      <th>sentiment_label</th>\n",
       "    </tr>\n",
       "  </thead>\n",
       "  <tbody>\n",
       "    <tr>\n",
       "      <th>2259</th>\n",
       "      <td>Lots of tongue in cheek. Some great characteri...</td>\n",
       "      <td>[lot, of, tongue, in, cheek, some, great, char...</td>\n",
       "      <td>9</td>\n",
       "      <td>1</td>\n",
       "    </tr>\n",
       "    <tr>\n",
       "      <th>3397</th>\n",
       "      <td>I adore the original starring Hayley Mills. It...</td>\n",
       "      <td>[adore, the, original, star, Hayley, Mills, it...</td>\n",
       "      <td>8</td>\n",
       "      <td>1</td>\n",
       "    </tr>\n",
       "    <tr>\n",
       "      <th>5374</th>\n",
       "      <td>The real critics were a bit hard on this one. ...</td>\n",
       "      <td>[the, real, critic, be, bit, hard, on, this, o...</td>\n",
       "      <td>7</td>\n",
       "      <td>1</td>\n",
       "    </tr>\n",
       "    <tr>\n",
       "      <th>3235</th>\n",
       "      <td>(Correction of a reference I made in my review...</td>\n",
       "      <td>[correction, of, reference, make, in, my, revi...</td>\n",
       "      <td>10</td>\n",
       "      <td>1</td>\n",
       "    </tr>\n",
       "    <tr>\n",
       "      <th>8720</th>\n",
       "      <td>This was on TV last night and as I am a fan of...</td>\n",
       "      <td>[this, be, on, tv, last, night, and, as, be, f...</td>\n",
       "      <td>7</td>\n",
       "      <td>1</td>\n",
       "    </tr>\n",
       "  </tbody>\n",
       "</table>\n",
       "</div>"
      ],
      "text/plain": [
       "                                                 review  \\\n",
       "2259  Lots of tongue in cheek. Some great characteri...   \n",
       "3397  I adore the original starring Hayley Mills. It...   \n",
       "5374  The real critics were a bit hard on this one. ...   \n",
       "3235  (Correction of a reference I made in my review...   \n",
       "8720  This was on TV last night and as I am a fan of...   \n",
       "\n",
       "                                      tokenized_reviews  rating  \\\n",
       "2259  [lot, of, tongue, in, cheek, some, great, char...       9   \n",
       "3397  [adore, the, original, star, Hayley, Mills, it...       8   \n",
       "5374  [the, real, critic, be, bit, hard, on, this, o...       7   \n",
       "3235  [correction, of, reference, make, in, my, revi...      10   \n",
       "8720  [this, be, on, tv, last, night, and, as, be, f...       7   \n",
       "\n",
       "      sentiment_label  \n",
       "2259                1  \n",
       "3397                1  \n",
       "5374                1  \n",
       "3235                1  \n",
       "8720                1  "
      ]
     },
     "execution_count": 220,
     "metadata": {},
     "output_type": "execute_result"
    }
   ],
   "source": [
    "vader_data = review_data.copy()\n",
    "vader_data.sample(5)"
   ]
  },
  {
   "cell_type": "code",
   "execution_count": 221,
   "id": "9028802d",
   "metadata": {},
   "outputs": [],
   "source": [
    "vader_data['tokenized_reviews'] = vader_data['tokenized_reviews'].apply(remove_stopwords)"
   ]
  },
  {
   "cell_type": "code",
   "execution_count": 222,
   "id": "2c406396",
   "metadata": {},
   "outputs": [],
   "source": [
    "pred_sentiment = []\n",
    "sia = SentimentIntensityAnalyzer()\n",
    "for x in vader_data['tokenized_reviews']:\n",
    "    score = sia.polarity_scores(' '.join(x))['compound']\n",
    "    if score > 0:\n",
    "        pred_sentiment.append(1)\n",
    "    else:\n",
    "        pred_sentiment.append(0)\n",
    "vader_data['pred_sentiment'] = pred_sentiment"
   ]
  },
  {
   "cell_type": "code",
   "execution_count": 223,
   "id": "9e43b5f8",
   "metadata": {},
   "outputs": [
    {
     "name": "stdout",
     "output_type": "stream",
     "text": [
      "              precision    recall  f1-score   support\n",
      "\n",
      "           0       0.63      0.44      0.52      2873\n",
      "           1       0.79      0.89      0.84      6792\n",
      "\n",
      "    accuracy                           0.76      9665\n",
      "   macro avg       0.71      0.66      0.68      9665\n",
      "weighted avg       0.74      0.76      0.74      9665\n",
      "\n"
     ]
    }
   ],
   "source": [
    "print(classification_report(vader_data['sentiment_label'], vader_data['pred_sentiment']))"
   ]
  },
  {
   "cell_type": "code",
   "execution_count": 224,
   "id": "ab74aca9",
   "metadata": {},
   "outputs": [
    {
     "data": {
      "image/png": "[encoded data removed]",
      "text/plain": [
       "<Figure size 640x480 with 2 Axes>"
      ]
     },
     "metadata": {},
     "output_type": "display_data"
    }
   ],
   "source": [
    "definitions = ['Negative','Positive']\n",
    "con_matrix = confusion_matrix(vader_data['sentiment_label'], vader_data['pred_sentiment'])\n",
    "sns.heatmap(con_matrix, annot=True, xticklabels=definitions, yticklabels=definitions, fmt=\".0f\", cmap=\"crest\")\n",
    "plt.xlabel('Predicted') \n",
    "plt.ylabel('Actual') \n",
    "plt.show()"
   ]
  },
  {
   "cell_type": "markdown",
   "id": "59ef7a61",
   "metadata": {},
   "source": [
    "## Sentiment Analysis based on gensim similarity\n",
    "\n",
    "Created the required functions for tokenizing the reviews and calculating cosine similarities between positive/negative words and tokens from reviews. Finally based on the difference in similarity we can predict if the sentiment in the review is positive or negative."
   ]
  },
  {
   "cell_type": "code",
   "execution_count": 40,
   "id": "80af2275",
   "metadata": {},
   "outputs": [],
   "source": [
    "def calculate_similarity_score(key_vectors, target_tokens, doc):\n",
    "    \n",
    "    target_token = [token for token in target_tokens if token in key_vectors.key_to_index]\n",
    "\n",
    "    doc_token = [token for token in doc if token in key_vectors.key_to_index]\n",
    "    \n",
    "    similarity_score = key_vectors.n_similarity(target_tokens, doc_token)\n",
    "    \n",
    "    return similarity_score\n",
    "\n",
    "def sentiment_analysis(key_vectors, positive_tokens, negative_tokens, docs):\n",
    "    \n",
    "    positive_score = docs.apply(lambda x: calculate_similarity_score(key_vectors=key_vectors, \n",
    "                                                                 target_tokens=positive_tokens, \n",
    "                                                                 doc=x))\n",
    "\n",
    "    negative_score = docs.apply(lambda x: calculate_similarity_score(key_vectors=key_vectors, \n",
    "                                                                 target_tokens=negative_tokens, \n",
    "                                                                 doc=x))\n",
    "\n",
    "    semantic_sentiment_score = positive_score - negative_score\n",
    "    \n",
    "    semantic_sentiment_polarity = semantic_sentiment_score.apply(lambda x: 1 if (x > 0) else 0)\n",
    "                                          \n",
    "    return positive_score, negative_score, semantic_sentiment_score, semantic_sentiment_polarity\n",
    "    "
   ]
  },
  {
   "cell_type": "markdown",
   "id": "93e9ea5c",
   "metadata": {},
   "source": [
    "## Implementing the model on tokenized reviews using polarity dataset"
   ]
  },
  {
   "cell_type": "code",
   "execution_count": 41,
   "id": "46a3f7bd",
   "metadata": {},
   "outputs": [
    {
     "data": {
      "text/html": [
       "<div>\n",
       "<style scoped>\n",
       "    .dataframe tbody tr th:only-of-type {\n",
       "        vertical-align: middle;\n",
       "    }\n",
       "\n",
       "    .dataframe tbody tr th {\n",
       "        vertical-align: top;\n",
       "    }\n",
       "\n",
       "    .dataframe thead th {\n",
       "        text-align: right;\n",
       "    }\n",
       "</style>\n",
       "<table border=\"1\" class=\"dataframe\">\n",
       "  <thead>\n",
       "    <tr style=\"text-align: right;\">\n",
       "      <th></th>\n",
       "      <th>review</th>\n",
       "      <th>tokenized_reviews</th>\n",
       "      <th>rating</th>\n",
       "      <th>sentiment_label</th>\n",
       "    </tr>\n",
       "  </thead>\n",
       "  <tbody>\n",
       "    <tr>\n",
       "      <th>0</th>\n",
       "      <td>Wow. The first Top Gun is a classic, and as we...</td>\n",
       "      <td>[wow, the, first, Top, Gun, be, classic, and, ...</td>\n",
       "      <td>10</td>\n",
       "      <td>1</td>\n",
       "    </tr>\n",
       "    <tr>\n",
       "      <th>1</th>\n",
       "      <td>If you were a late teen or in your early twent...</td>\n",
       "      <td>[if, you, be, late, teen, or, in, your, early,...</td>\n",
       "      <td>10</td>\n",
       "      <td>1</td>\n",
       "    </tr>\n",
       "    <tr>\n",
       "      <th>2</th>\n",
       "      <td>In one of the more memorable lines in the orig...</td>\n",
       "      <td>[in, one, of, the, more, memorable, line, in, ...</td>\n",
       "      <td>10</td>\n",
       "      <td>1</td>\n",
       "    </tr>\n",
       "    <tr>\n",
       "      <th>3</th>\n",
       "      <td>This is one sequel that looked like it would n...</td>\n",
       "      <td>[this, be, one, sequel, that, look, like, it, ...</td>\n",
       "      <td>10</td>\n",
       "      <td>1</td>\n",
       "    </tr>\n",
       "    <tr>\n",
       "      <th>4</th>\n",
       "      <td>I was reluctantly dragged into the theater, th...</td>\n",
       "      <td>[be, reluctantly, drag, into, the, theater, th...</td>\n",
       "      <td>10</td>\n",
       "      <td>1</td>\n",
       "    </tr>\n",
       "  </tbody>\n",
       "</table>\n",
       "</div>"
      ],
      "text/plain": [
       "                                              review  \\\n",
       "0  Wow. The first Top Gun is a classic, and as we...   \n",
       "1  If you were a late teen or in your early twent...   \n",
       "2  In one of the more memorable lines in the orig...   \n",
       "3  This is one sequel that looked like it would n...   \n",
       "4  I was reluctantly dragged into the theater, th...   \n",
       "\n",
       "                                   tokenized_reviews  rating  sentiment_label  \n",
       "0  [wow, the, first, Top, Gun, be, classic, and, ...      10                1  \n",
       "1  [if, you, be, late, teen, or, in, your, early,...      10                1  \n",
       "2  [in, one, of, the, more, memorable, line, in, ...      10                1  \n",
       "3  [this, be, one, sequel, that, look, like, it, ...      10                1  \n",
       "4  [be, reluctantly, drag, into, the, theater, th...      10                1  "
      ]
     },
     "execution_count": 41,
     "metadata": {},
     "output_type": "execute_result"
    }
   ],
   "source": [
    "gensim_data = review_data.copy()\n",
    "gensim_data.head()"
   ]
  },
  {
   "cell_type": "code",
   "execution_count": 50,
   "id": "1321b4c4",
   "metadata": {},
   "outputs": [],
   "source": [
    "w2v_model = Word2Vec(gensim_data['tokenized_reviews'],workers=4,vector_size=300,window=5,min_count=5)"
   ]
  },
  {
   "cell_type": "code",
   "execution_count": 51,
   "id": "9e6fcce3",
   "metadata": {},
   "outputs": [],
   "source": [
    "positive = pd.read_csv('positive-words.txt', header=None)\n",
    "negative = pd.read_csv('negative-words.txt', header=None)\n",
    "\n",
    "positive_word_li = list(positive[0])\n",
    "negative_word_li = list(negative[0])"
   ]
  },
  {
   "cell_type": "code",
   "execution_count": 52,
   "id": "3adb1410",
   "metadata": {},
   "outputs": [],
   "source": [
    "semantic_scores = sentiment_analysis(w2v_model.wv, positive_word_li, negative_word_li, gensim_data['tokenized_reviews'])\n",
    "\n",
    "gensim_data['PSS'] = semantic_scores[0] \n",
    "gensim_data['NSS'] = semantic_scores[1] \n",
    "gensim_data['semantic_sentiment_score'] = semantic_scores[2] \n",
    "gensim_data['semantic_sentiment'] = semantic_scores[3]"
   ]
  },
  {
   "cell_type": "code",
   "execution_count": 53,
   "id": "e74a41dc",
   "metadata": {},
   "outputs": [
    {
     "name": "stdout",
     "output_type": "stream",
     "text": [
      "              precision    recall  f1-score   support\n",
      "\n",
      "           0       0.12      0.00      0.00      2873\n",
      "           1       0.70      1.00      0.82      6792\n",
      "\n",
      "    accuracy                           0.70      9665\n",
      "   macro avg       0.41      0.50      0.41      9665\n",
      "weighted avg       0.53      0.70      0.58      9665\n",
      "\n"
     ]
    }
   ],
   "source": [
    "print(classification_report(gensim_data['sentiment_label'], gensim_data['semantic_sentiment']))"
   ]
  },
  {
   "cell_type": "code",
   "execution_count": 54,
   "id": "51d0fdaa",
   "metadata": {},
   "outputs": [
    {
     "data": {
      "image/png": "[encoded data removed]",
      "text/plain": [
       "<Figure size 640x480 with 2 Axes>"
      ]
     },
     "metadata": {},
     "output_type": "display_data"
    }
   ],
   "source": [
    "definitions = ['Negative','Positive']\n",
    "con_matrix = confusion_matrix(gensim_data['sentiment_label'], gensim_data['semantic_sentiment'])\n",
    "sns.heatmap(con_matrix, annot=True, xticklabels=definitions, yticklabels=definitions, fmt=\".0f\", cmap=\"crest\")\n",
    "plt.xlabel('Predicted') \n",
    "plt.ylabel('Actual') \n",
    "plt.show()"
   ]
  },
  {
   "cell_type": "code",
   "execution_count": 53,
   "id": "77b454a5",
   "metadata": {},
   "outputs": [
    {
     "data": {
      "text/html": [
       "<div>\n",
       "<style scoped>\n",
       "    .dataframe tbody tr th:only-of-type {\n",
       "        vertical-align: middle;\n",
       "    }\n",
       "\n",
       "    .dataframe tbody tr th {\n",
       "        vertical-align: top;\n",
       "    }\n",
       "\n",
       "    .dataframe thead th {\n",
       "        text-align: right;\n",
       "    }\n",
       "</style>\n",
       "<table border=\"1\" class=\"dataframe\">\n",
       "  <thead>\n",
       "    <tr style=\"text-align: right;\">\n",
       "      <th></th>\n",
       "      <th>review</th>\n",
       "      <th>tokenized_reviews</th>\n",
       "      <th>rating</th>\n",
       "      <th>sentiment_label</th>\n",
       "    </tr>\n",
       "  </thead>\n",
       "  <tbody>\n",
       "    <tr>\n",
       "      <th>0</th>\n",
       "      <td>Wow. The first Top Gun is a classic, and as we...</td>\n",
       "      <td>[wow, the, first, Top, Gun, be, classic, and, ...</td>\n",
       "      <td>10</td>\n",
       "      <td>1</td>\n",
       "    </tr>\n",
       "    <tr>\n",
       "      <th>1</th>\n",
       "      <td>If you were a late teen or in your early twent...</td>\n",
       "      <td>[if, you, be, late, teen, or, in, your, early,...</td>\n",
       "      <td>10</td>\n",
       "      <td>1</td>\n",
       "    </tr>\n",
       "    <tr>\n",
       "      <th>2</th>\n",
       "      <td>In one of the more memorable lines in the orig...</td>\n",
       "      <td>[in, one, of, the, more, memorable, line, in, ...</td>\n",
       "      <td>10</td>\n",
       "      <td>1</td>\n",
       "    </tr>\n",
       "    <tr>\n",
       "      <th>3</th>\n",
       "      <td>This is one sequel that looked like it would n...</td>\n",
       "      <td>[this, be, one, sequel, that, look, like, it, ...</td>\n",
       "      <td>10</td>\n",
       "      <td>1</td>\n",
       "    </tr>\n",
       "    <tr>\n",
       "      <th>4</th>\n",
       "      <td>I was reluctantly dragged into the theater, th...</td>\n",
       "      <td>[be, reluctantly, drag, into, the, theater, th...</td>\n",
       "      <td>10</td>\n",
       "      <td>1</td>\n",
       "    </tr>\n",
       "  </tbody>\n",
       "</table>\n",
       "</div>"
      ],
      "text/plain": [
       "                                              review  \\\n",
       "0  Wow. The first Top Gun is a classic, and as we...   \n",
       "1  If you were a late teen or in your early twent...   \n",
       "2  In one of the more memorable lines in the orig...   \n",
       "3  This is one sequel that looked like it would n...   \n",
       "4  I was reluctantly dragged into the theater, th...   \n",
       "\n",
       "                                   tokenized_reviews  rating  sentiment_label  \n",
       "0  [wow, the, first, Top, Gun, be, classic, and, ...      10                1  \n",
       "1  [if, you, be, late, teen, or, in, your, early,...      10                1  \n",
       "2  [in, one, of, the, more, memorable, line, in, ...      10                1  \n",
       "3  [this, be, one, sequel, that, look, like, it, ...      10                1  \n",
       "4  [be, reluctantly, drag, into, the, theater, th...      10                1  "
      ]
     },
     "execution_count": 53,
     "metadata": {},
     "output_type": "execute_result"
    }
   ],
   "source": [
    "gensim_data = review_data.copy()\n",
    "gensim_data.head()"
   ]
  },
  {
   "cell_type": "markdown",
   "id": "b7d05c02",
   "metadata": {},
   "source": [
    "Trying to select the best parameters to tune the gensim model, trying various combinations of vector sizes, windows and minimum word length values."
   ]
  },
  {
   "cell_type": "code",
   "execution_count": 178,
   "id": "4ef1fea1",
   "metadata": {},
   "outputs": [
    {
     "name": "stdout",
     "output_type": "stream",
     "text": [
      "Best Vector Size:  150\n",
      "Best Window Size:  11\n",
      "Best min_count:  4\n",
      "0.6620551367217852\n"
     ]
    }
   ],
   "source": [
    "vector_sizes = range(100,300,50)\n",
    "windows = range(3,13,2)\n",
    "min_counts = range(2,5)\n",
    "best_model = None\n",
    "best_vector = None\n",
    "best_window = None\n",
    "best_count = None\n",
    "f1 = 0\n",
    "for size in vector_sizes:\n",
    "    for window in windows:\n",
    "        for min_count in min_counts:\n",
    "            w2v_model = Word2Vec(gensim_data['tokenized_reviews'],workers=4,vector_size=size,window=window,min_count=min_count)\n",
    "            semantic_scores = sentiment_analysis(w2v_model.wv, positive_word_li, negative_word_li, gensim_data['tokenized_reviews'])\n",
    "            gensim_data['semantic_sentiment'] = semantic_scores[3]\n",
    "            temp_score = f1_score(gensim_data['sentiment_label'], gensim_data['semantic_sentiment'], average='weighted')\n",
    "            if temp_score > f1:\n",
    "                f1 = temp_score\n",
    "                best_model = w2v_model\n",
    "                best_vector = size\n",
    "                best_window = window\n",
    "                best_count = min_count\n",
    "print('Best Vector Size: ', best_vector)\n",
    "print('Best Window Size: ', best_window)\n",
    "print('Best min_count: ', best_count)\n",
    "semantic_scores = sentiment_analysis(best_model.wv, positive_word_li, negative_word_li, gensim_data['tokenized_reviews'])\n",
    "gensim_data['semantic_sentiment'] = semantic_scores[3]\n",
    "print(f1_score(gensim_data['sentiment_label'], gensim_data['semantic_sentiment'], average='weighted'))"
   ]
  },
  {
   "cell_type": "code",
   "execution_count": 46,
   "id": "8f1ed47e",
   "metadata": {},
   "outputs": [
    {
     "name": "stdout",
     "output_type": "stream",
     "text": [
      "              precision    recall  f1-score   support\n",
      "\n",
      "           0       0.42      0.04      0.07      2873\n",
      "           1       0.71      0.98      0.82      6792\n",
      "\n",
      "    accuracy                           0.70      9665\n",
      "   macro avg       0.57      0.51      0.44      9665\n",
      "weighted avg       0.62      0.70      0.60      9665\n",
      "\n"
     ]
    }
   ],
   "source": [
    "w2v_model = Word2Vec(gensim_data['tokenized_reviews'],workers=4,vector_size=150,window=11,min_count=4)\n",
    "semantic_scores = sentiment_analysis(w2v_model.wv, positive_word_li, negative_word_li, gensim_data['tokenized_reviews'])\n",
    "gensim_data['semantic_sentiment'] = semantic_scores[3]\n",
    "print(classification_report(gensim_data['sentiment_label'], gensim_data['semantic_sentiment']))"
   ]
  },
  {
   "cell_type": "code",
   "execution_count": 47,
   "id": "30af8d35",
   "metadata": {},
   "outputs": [
    {
     "data": {
      "image/png": "[encoded data removed]",
      "text/plain": [
       "<Figure size 640x480 with 2 Axes>"
      ]
     },
     "metadata": {},
     "output_type": "display_data"
    }
   ],
   "source": [
    "definitions = ['Negative','Positive']\n",
    "con_matrix = confusion_matrix(gensim_data['sentiment_label'], gensim_data['semantic_sentiment'])\n",
    "sns.heatmap(con_matrix, annot=True, xticklabels=definitions, yticklabels=definitions, fmt=\".0f\", cmap=\"crest\")\n",
    "plt.xlabel('Predicted') \n",
    "plt.ylabel('Actual') \n",
    "plt.show()"
   ]
  },
  {
   "cell_type": "code",
   "execution_count": 55,
   "id": "2e2aa515",
   "metadata": {},
   "outputs": [
    {
     "data": {
      "text/html": [
       "<div>\n",
       "<style scoped>\n",
       "    .dataframe tbody tr th:only-of-type {\n",
       "        vertical-align: middle;\n",
       "    }\n",
       "\n",
       "    .dataframe tbody tr th {\n",
       "        vertical-align: top;\n",
       "    }\n",
       "\n",
       "    .dataframe thead th {\n",
       "        text-align: right;\n",
       "    }\n",
       "</style>\n",
       "<table border=\"1\" class=\"dataframe\">\n",
       "  <thead>\n",
       "    <tr style=\"text-align: right;\">\n",
       "      <th></th>\n",
       "      <th>review</th>\n",
       "      <th>tokenized_reviews</th>\n",
       "      <th>rating</th>\n",
       "      <th>sentiment_label</th>\n",
       "    </tr>\n",
       "  </thead>\n",
       "  <tbody>\n",
       "    <tr>\n",
       "      <th>2613</th>\n",
       "      <td>Reuben (Ben Stiller) is a straitlaced risk man...</td>\n",
       "      <td>[Reuben, Ben, Stiller, be, straitlace, risk, m...</td>\n",
       "      <td>2</td>\n",
       "      <td>0</td>\n",
       "    </tr>\n",
       "    <tr>\n",
       "      <th>8338</th>\n",
       "      <td>Night at the Musuem stars the very funny Ben S...</td>\n",
       "      <td>[night, at, the, Musuem, star, the, very, funn...</td>\n",
       "      <td>7</td>\n",
       "      <td>1</td>\n",
       "    </tr>\n",
       "    <tr>\n",
       "      <th>2122</th>\n",
       "      <td>THE FOUNDER is a film much like Fincher's THE ...</td>\n",
       "      <td>[the, FOUNDER, be, film, much, like, Fincher, ...</td>\n",
       "      <td>10</td>\n",
       "      <td>1</td>\n",
       "    </tr>\n",
       "    <tr>\n",
       "      <th>4725</th>\n",
       "      <td>I went into Ratatouille with huge expectations...</td>\n",
       "      <td>[go, into, Ratatouille, with, huge, expectatio...</td>\n",
       "      <td>6</td>\n",
       "      <td>1</td>\n",
       "    </tr>\n",
       "    <tr>\n",
       "      <th>5384</th>\n",
       "      <td>I'm not really a fan of Christian Bale, but th...</td>\n",
       "      <td>[be, not, really, fan, of, Christian, Bale, bu...</td>\n",
       "      <td>10</td>\n",
       "      <td>1</td>\n",
       "    </tr>\n",
       "  </tbody>\n",
       "</table>\n",
       "</div>"
      ],
      "text/plain": [
       "                                                 review  \\\n",
       "2613  Reuben (Ben Stiller) is a straitlaced risk man...   \n",
       "8338  Night at the Musuem stars the very funny Ben S...   \n",
       "2122  THE FOUNDER is a film much like Fincher's THE ...   \n",
       "4725  I went into Ratatouille with huge expectations...   \n",
       "5384  I'm not really a fan of Christian Bale, but th...   \n",
       "\n",
       "                                      tokenized_reviews  rating  \\\n",
       "2613  [Reuben, Ben, Stiller, be, straitlace, risk, m...       2   \n",
       "8338  [night, at, the, Musuem, star, the, very, funn...       7   \n",
       "2122  [the, FOUNDER, be, film, much, like, Fincher, ...      10   \n",
       "4725  [go, into, Ratatouille, with, huge, expectatio...       6   \n",
       "5384  [be, not, really, fan, of, Christian, Bale, bu...      10   \n",
       "\n",
       "      sentiment_label  \n",
       "2613                0  \n",
       "8338                1  \n",
       "2122                1  \n",
       "4725                1  \n",
       "5384                1  "
      ]
     },
     "execution_count": 55,
     "metadata": {},
     "output_type": "execute_result"
    }
   ],
   "source": [
    "gensim_data = review_data.copy()\n",
    "gensim_data.sample(5)"
   ]
  },
  {
   "cell_type": "code",
   "execution_count": 56,
   "id": "ce8acfef",
   "metadata": {},
   "outputs": [],
   "source": [
    "gensim_data['tokenized_reviews'] = gensim_data['tokenized_reviews'].apply(remove_stopwords)"
   ]
  },
  {
   "cell_type": "code",
   "execution_count": 60,
   "id": "9d3981e7",
   "metadata": {},
   "outputs": [],
   "source": [
    "w2v_model = Word2Vec(gensim_data['tokenized_reviews'],workers=4,vector_size=150,window=11,min_count=4)"
   ]
  },
  {
   "cell_type": "code",
   "execution_count": 61,
   "id": "86640c1b",
   "metadata": {},
   "outputs": [
    {
     "name": "stdout",
     "output_type": "stream",
     "text": [
      "              precision    recall  f1-score   support\n",
      "\n",
      "           0       0.47      0.21      0.29      2873\n",
      "           1       0.73      0.90      0.81      6792\n",
      "\n",
      "    accuracy                           0.70      9665\n",
      "   macro avg       0.60      0.56      0.55      9665\n",
      "weighted avg       0.65      0.70      0.65      9665\n",
      "\n"
     ]
    }
   ],
   "source": [
    "semantic_scores = sentiment_analysis(w2v_model.wv, positive_word_li, negative_word_li, gensim_data['tokenized_reviews'])\n",
    "\n",
    "gensim_data['PSS'] = semantic_scores[0] \n",
    "gensim_data['NSS'] = semantic_scores[1] \n",
    "gensim_data['semantic_sentiment_score'] = semantic_scores[2] \n",
    "gensim_data['semantic_sentiment'] = semantic_scores[3]\n",
    "\n",
    "print(classification_report(gensim_data['sentiment_label'], gensim_data['semantic_sentiment']))"
   ]
  },
  {
   "cell_type": "code",
   "execution_count": 62,
   "id": "8485409c",
   "metadata": {},
   "outputs": [
    {
     "data": {
      "image/png": "[encoded data removed]",
      "text/plain": [
       "<Figure size 640x480 with 2 Axes>"
      ]
     },
     "metadata": {},
     "output_type": "display_data"
    }
   ],
   "source": [
    "definitions = ['Negative','Positive']\n",
    "con_matrix = confusion_matrix(gensim_data['sentiment_label'], gensim_data['semantic_sentiment'])\n",
    "sns.heatmap(con_matrix, annot=True, xticklabels=definitions, yticklabels=definitions, fmt=\".0f\", cmap=\"crest\")\n",
    "plt.xlabel('Predicted') \n",
    "plt.ylabel('Actual') \n",
    "plt.show()"
   ]
  },
  {
   "cell_type": "markdown",
   "id": "92576444",
   "metadata": {},
   "source": [
    "## Implementing the model on tokenized reviews using custom word list"
   ]
  },
  {
   "cell_type": "markdown",
   "id": "1cdae06a",
   "metadata": {},
   "source": [
    "Modifying the default stopwords to remove negating words like no, not, and nor as they play an important role in reviews. For eg: not good, niether entertaining nor watchable, etc."
   ]
  },
  {
   "cell_type": "code",
   "execution_count": 73,
   "id": "1cace3e0",
   "metadata": {},
   "outputs": [
    {
     "data": {
      "text/html": [
       "<div>\n",
       "<style scoped>\n",
       "    .dataframe tbody tr th:only-of-type {\n",
       "        vertical-align: middle;\n",
       "    }\n",
       "\n",
       "    .dataframe tbody tr th {\n",
       "        vertical-align: top;\n",
       "    }\n",
       "\n",
       "    .dataframe thead th {\n",
       "        text-align: right;\n",
       "    }\n",
       "</style>\n",
       "<table border=\"1\" class=\"dataframe\">\n",
       "  <thead>\n",
       "    <tr style=\"text-align: right;\">\n",
       "      <th></th>\n",
       "      <th>review</th>\n",
       "      <th>tokenized_reviews</th>\n",
       "      <th>rating</th>\n",
       "      <th>sentiment_label</th>\n",
       "    </tr>\n",
       "  </thead>\n",
       "  <tbody>\n",
       "    <tr>\n",
       "      <th>5962</th>\n",
       "      <td>The acting was simply amazing, what else could...</td>\n",
       "      <td>[the, acting, be, simply, amazing, what, else,...</td>\n",
       "      <td>10</td>\n",
       "      <td>1</td>\n",
       "    </tr>\n",
       "    <tr>\n",
       "      <th>7954</th>\n",
       "      <td>make for a lousy movie. The problem with this ...</td>\n",
       "      <td>[make, for, lousy, movie, the, problem, with, ...</td>\n",
       "      <td>4</td>\n",
       "      <td>0</td>\n",
       "    </tr>\n",
       "    <tr>\n",
       "      <th>982</th>\n",
       "      <td>The first half of hour of this film is very fu...</td>\n",
       "      <td>[the, first, half, of, hour, of, this, film, b...</td>\n",
       "      <td>4</td>\n",
       "      <td>0</td>\n",
       "    </tr>\n",
       "    <tr>\n",
       "      <th>1822</th>\n",
       "      <td>I don't know why I avoided this film. It's a J...</td>\n",
       "      <td>[do, not, know, why, avoid, this, film, it, be...</td>\n",
       "      <td>10</td>\n",
       "      <td>1</td>\n",
       "    </tr>\n",
       "    <tr>\n",
       "      <th>6465</th>\n",
       "      <td>Expect to be in for a jolly good ride if a fil...</td>\n",
       "      <td>[expect, to, be, in, for, jolly, good, ride, i...</td>\n",
       "      <td>9</td>\n",
       "      <td>1</td>\n",
       "    </tr>\n",
       "  </tbody>\n",
       "</table>\n",
       "</div>"
      ],
      "text/plain": [
       "                                                 review  \\\n",
       "5962  The acting was simply amazing, what else could...   \n",
       "7954  make for a lousy movie. The problem with this ...   \n",
       "982   The first half of hour of this film is very fu...   \n",
       "1822  I don't know why I avoided this film. It's a J...   \n",
       "6465  Expect to be in for a jolly good ride if a fil...   \n",
       "\n",
       "                                      tokenized_reviews  rating  \\\n",
       "5962  [the, acting, be, simply, amazing, what, else,...      10   \n",
       "7954  [make, for, lousy, movie, the, problem, with, ...       4   \n",
       "982   [the, first, half, of, hour, of, this, film, b...       4   \n",
       "1822  [do, not, know, why, avoid, this, film, it, be...      10   \n",
       "6465  [expect, to, be, in, for, jolly, good, ride, i...       9   \n",
       "\n",
       "      sentiment_label  \n",
       "5962                1  \n",
       "7954                0  \n",
       "982                 0  \n",
       "1822                1  \n",
       "6465                1  "
      ]
     },
     "execution_count": 73,
     "metadata": {},
     "output_type": "execute_result"
    }
   ],
   "source": [
    "gensim_data = review_data.copy()\n",
    "gensim_data.sample(5)"
   ]
  },
  {
   "cell_type": "code",
   "execution_count": 81,
   "id": "b43837ca",
   "metadata": {},
   "outputs": [],
   "source": [
    "w2v_model = Word2Vec(gensim_data['tokenized_reviews'],workers=4,vector_size=150,window=11,min_count=4)"
   ]
  },
  {
   "cell_type": "markdown",
   "id": "0a132576",
   "metadata": {},
   "source": [
    "We find words from the vocabulary which have close similarity with good, bad and average. We create a list of words from these similar words for positive, negative and neutral emotion."
   ]
  },
  {
   "cell_type": "code",
   "execution_count": 76,
   "id": "26454655",
   "metadata": {},
   "outputs": [
    {
     "data": {
      "text/plain": [
       "[('fine', 0.7033397555351257),\n",
       " ('great', 0.6902096271514893),\n",
       " ('decent', 0.6446502804756165),\n",
       " ('bad', 0.5951171517372131),\n",
       " ('perfect', 0.5621051788330078),\n",
       " ('fantastic', 0.5584308505058289),\n",
       " ('funniest', 0.5573737025260925),\n",
       " ('solid', 0.5477094054222107),\n",
       " ('amazing', 0.5362098217010498),\n",
       " ('wonderful', 0.5360158681869507),\n",
       " ('awesome', 0.5230631828308105),\n",
       " ('enjoyable', 0.5144273042678833),\n",
       " ('cool', 0.5133271813392639),\n",
       " ('entertaining', 0.49867281317710876),\n",
       " ('brilliant', 0.4907563626766205),\n",
       " ('terrible', 0.4900643527507782),\n",
       " ('fond', 0.4850315451622009),\n",
       " ('terrific', 0.47900304198265076),\n",
       " ('definitely', 0.4783366024494171),\n",
       " ('nice', 0.47503602504730225)]"
      ]
     },
     "execution_count": 76,
     "metadata": {},
     "output_type": "execute_result"
    }
   ],
   "source": [
    "w2v_model.wv.most_similar('good',topn=20)"
   ]
  },
  {
   "cell_type": "code",
   "execution_count": 77,
   "id": "4ad6908a",
   "metadata": {},
   "outputs": [
    {
     "data": {
      "text/plain": [
       "[('dumb', 0.6489478945732117),\n",
       " ('terrible', 0.6083087921142578),\n",
       " ('awful', 0.6060541272163391),\n",
       " ('good', 0.5951172709465027),\n",
       " ('ok', 0.5899317264556885),\n",
       " ('stupid', 0.5896429419517517),\n",
       " ('poor', 0.5091024041175842),\n",
       " ('cool', 0.4907423257827759),\n",
       " ('boring', 0.4832514226436615),\n",
       " ('horrible', 0.48151567578315735),\n",
       " ('weak', 0.4704088568687439),\n",
       " ('badly', 0.45335283875465393),\n",
       " ('mediocre', 0.45285776257514954),\n",
       " ('annoying', 0.4480356276035309),\n",
       " ('damn', 0.444418340921402),\n",
       " ('dreadful', 0.42467087507247925),\n",
       " ('funny', 0.42312154173851013),\n",
       " ('yeah', 0.42109379172325134),\n",
       " ('honestly', 0.41196611523628235),\n",
       " ('okay', 0.4080488681793213)]"
      ]
     },
     "execution_count": 77,
     "metadata": {},
     "output_type": "execute_result"
    }
   ],
   "source": [
    "w2v_model.wv.most_similar('bad',topn=20)"
   ]
  },
  {
   "cell_type": "code",
   "execution_count": 82,
   "id": "5196f36a",
   "metadata": {},
   "outputs": [],
   "source": [
    "positive_word_li = ['good','decent','fine','great','brilliant','perfect','fantastic','nice','excellent','amazing']\n",
    "#                     'solid','nice','amazing','fantastic','awesome','perfect','wonderful']\n",
    "negative_word_li = ['terrible','awful','horrible','dumb','poor','stupid','weak','bad','boring','ridiculous']"
   ]
  },
  {
   "cell_type": "code",
   "execution_count": 83,
   "id": "bea48211",
   "metadata": {},
   "outputs": [
    {
     "name": "stdout",
     "output_type": "stream",
     "text": [
      "              precision    recall  f1-score   support\n",
      "\n",
      "           0       0.40      0.91      0.55      2873\n",
      "           1       0.92      0.42      0.58      6792\n",
      "\n",
      "    accuracy                           0.57      9665\n",
      "   macro avg       0.66      0.66      0.57      9665\n",
      "weighted avg       0.76      0.57      0.57      9665\n",
      "\n"
     ]
    }
   ],
   "source": [
    "semantic_scores = sentiment_analysis(w2v_model.wv, positive_word_li, negative_word_li, gensim_data['tokenized_reviews'])\n",
    "gensim_data['PSS'] = semantic_scores[0] \n",
    "gensim_data['NSS'] = semantic_scores[1] \n",
    "gensim_data['semantic_sentiment_score'] = semantic_scores[2] \n",
    "gensim_data['semantic_sentiment'] = semantic_scores[3]\n",
    "print(classification_report(gensim_data['sentiment_label'], gensim_data['semantic_sentiment']))"
   ]
  },
  {
   "cell_type": "code",
   "execution_count": 84,
   "id": "720639db",
   "metadata": {},
   "outputs": [
    {
     "data": {
      "image/png": "[encoded data removed]",
      "text/plain": [
       "<Figure size 640x480 with 2 Axes>"
      ]
     },
     "metadata": {},
     "output_type": "display_data"
    }
   ],
   "source": [
    "definitions = ['Negative','Positive']\n",
    "con_matrix = confusion_matrix(gensim_data['sentiment_label'], gensim_data['semantic_sentiment'])\n",
    "sns.heatmap(con_matrix, annot=True, xticklabels=definitions, yticklabels=definitions, fmt=\".0f\", cmap=\"crest\")\n",
    "plt.xlabel('Predicted') \n",
    "plt.ylabel('Actual') \n",
    "plt.show()"
   ]
  },
  {
   "cell_type": "code",
   "execution_count": null,
   "id": "747fc1b6",
   "metadata": {},
   "outputs": [],
   "source": [
    "gensim_data = review_data.copy()\n",
    "gensim_data.sample(5)"
   ]
  },
  {
   "cell_type": "code",
   "execution_count": 185,
   "id": "a7ac63ba",
   "metadata": {},
   "outputs": [],
   "source": [
    "gensim_data['tokenized_reviews'] = gensim_data['tokenized_reviews'].apply(remove_stopwords)"
   ]
  },
  {
   "cell_type": "code",
   "execution_count": 186,
   "id": "a92ffa87",
   "metadata": {},
   "outputs": [
    {
     "name": "stdout",
     "output_type": "stream",
     "text": [
      "Best Vector Size:  100\n",
      "Best Window Size:  11\n",
      "Best min_count:  4\n",
      "0.6686405108585508\n"
     ]
    }
   ],
   "source": [
    "vector_sizes = range(100,300,50)\n",
    "windows = range(3,13,2)\n",
    "min_counts = range(2,5)\n",
    "best_model = None\n",
    "best_vector = None\n",
    "best_window = None\n",
    "best_count = None\n",
    "f1 = 0\n",
    "for size in vector_sizes:\n",
    "    for window in windows:\n",
    "        for min_count in min_counts:\n",
    "            w2v_model = Word2Vec(gensim_data['tokenized_reviews'],workers=4,vector_size=size,window=window,min_count=min_count)\n",
    "            semantic_scores = sentiment_analysis(w2v_model.wv, positive_word_li, negative_word_li, gensim_data['tokenized_reviews'])\n",
    "            gensim_data['semantic_sentiment'] = semantic_scores[3]\n",
    "            temp_score = f1_score(gensim_data['sentiment_label'], gensim_data['semantic_sentiment'], average='weighted')\n",
    "            if temp_score > f1:\n",
    "                f1 = temp_score\n",
    "                best_model = w2v_model\n",
    "                best_vector = size\n",
    "                best_window = window\n",
    "                best_count = min_count\n",
    "print('Best Vector Size: ', best_vector)\n",
    "print('Best Window Size: ', best_window)\n",
    "print('Best min_count: ', best_count)\n",
    "semantic_scores = sentiment_analysis(best_model.wv, positive_word_li, negative_word_li, gensim_data['tokenized_reviews'])\n",
    "gensim_data['semantic_sentiment'] = semantic_scores[3]\n",
    "print(f1_score(gensim_data['sentiment_label'], gensim_data['semantic_sentiment'], average='weighted'))"
   ]
  },
  {
   "cell_type": "code",
   "execution_count": 187,
   "id": "1a204705",
   "metadata": {},
   "outputs": [
    {
     "name": "stdout",
     "output_type": "stream",
     "text": [
      "              precision    recall  f1-score   support\n",
      "\n",
      "           0       0.45      0.88      0.60      2873\n",
      "           1       0.92      0.55      0.69      6792\n",
      "\n",
      "    accuracy                           0.65      9665\n",
      "   macro avg       0.69      0.72      0.65      9665\n",
      "weighted avg       0.78      0.65      0.66      9665\n",
      "\n"
     ]
    }
   ],
   "source": [
    "w2v_model = Word2Vec(gensim_data['tokenized_reviews'],workers=4,vector_size=100,window=11,min_count=4)\n",
    "semantic_scores = sentiment_analysis(w2v_model.wv, positive_word_li, negative_word_li, gensim_data['tokenized_reviews'])\n",
    "gensim_data['PSS'] = semantic_scores[0] \n",
    "gensim_data['NSS'] = semantic_scores[1] \n",
    "gensim_data['semantic_sentiment_score'] = semantic_scores[2] \n",
    "gensim_data['semantic_sentiment'] = semantic_scores[3]\n",
    "print(classification_report(gensim_data['sentiment_label'], gensim_data['semantic_sentiment']))"
   ]
  },
  {
   "cell_type": "code",
   "execution_count": 188,
   "id": "546afe82",
   "metadata": {},
   "outputs": [
    {
     "data": {
      "image/png": "[encoded data removed]",
      "text/plain": [
       "<Figure size 640x480 with 2 Axes>"
      ]
     },
     "metadata": {},
     "output_type": "display_data"
    }
   ],
   "source": [
    "definitions = ['Negative','Positive']\n",
    "con_matrix = confusion_matrix(gensim_data['sentiment_label'], gensim_data['semantic_sentiment'])\n",
    "sns.heatmap(con_matrix, annot=True, xticklabels=definitions, yticklabels=definitions, fmt=\".0f\", cmap=\"crest\")\n",
    "plt.xlabel('Predicted') \n",
    "plt.ylabel('Actual') \n",
    "plt.show()"
   ]
  },
  {
   "cell_type": "markdown",
   "id": "9d9bc583",
   "metadata": {},
   "source": [
    "## Kmeans clustering"
   ]
  },
  {
   "cell_type": "code",
   "execution_count": 5,
   "id": "4d2d2334",
   "metadata": {},
   "outputs": [
    {
     "data": {
      "text/html": [
       "<div>\n",
       "<style scoped>\n",
       "    .dataframe tbody tr th:only-of-type {\n",
       "        vertical-align: middle;\n",
       "    }\n",
       "\n",
       "    .dataframe tbody tr th {\n",
       "        vertical-align: top;\n",
       "    }\n",
       "\n",
       "    .dataframe thead th {\n",
       "        text-align: right;\n",
       "    }\n",
       "</style>\n",
       "<table border=\"1\" class=\"dataframe\">\n",
       "  <thead>\n",
       "    <tr style=\"text-align: right;\">\n",
       "      <th></th>\n",
       "      <th>review</th>\n",
       "      <th>tokenized_reviews</th>\n",
       "      <th>rating</th>\n",
       "      <th>sentiment_label</th>\n",
       "    </tr>\n",
       "  </thead>\n",
       "  <tbody>\n",
       "    <tr>\n",
       "      <th>8245</th>\n",
       "      <td>I have used the IMDb review for years to look ...</td>\n",
       "      <td>[have, use, the, IMDb, review, for, year, to, ...</td>\n",
       "      <td>1</td>\n",
       "      <td>0</td>\n",
       "    </tr>\n",
       "    <tr>\n",
       "      <th>606</th>\n",
       "      <td>A tragic true story told as generic, mundane a...</td>\n",
       "      <td>[tragic, true, story, tell, as, generic, munda...</td>\n",
       "      <td>2</td>\n",
       "      <td>0</td>\n",
       "    </tr>\n",
       "    <tr>\n",
       "      <th>3768</th>\n",
       "      <td>Oh how I was looking forward to a laugh and a ...</td>\n",
       "      <td>[oh, how, be, look, forward, to, laugh, and, h...</td>\n",
       "      <td>2</td>\n",
       "      <td>0</td>\n",
       "    </tr>\n",
       "    <tr>\n",
       "      <th>6867</th>\n",
       "      <td>Aaron Sorkin is a sort of genius, a word I alm...</td>\n",
       "      <td>[Aaron, Sorkin, be, sort, of, genius, word, al...</td>\n",
       "      <td>10</td>\n",
       "      <td>1</td>\n",
       "    </tr>\n",
       "    <tr>\n",
       "      <th>4600</th>\n",
       "      <td>Toy Story is the film that started Pixar Anima...</td>\n",
       "      <td>[Toy, Story, be, the, film, that, start, Pixar...</td>\n",
       "      <td>10</td>\n",
       "      <td>1</td>\n",
       "    </tr>\n",
       "  </tbody>\n",
       "</table>\n",
       "</div>"
      ],
      "text/plain": [
       "                                                 review  \\\n",
       "8245  I have used the IMDb review for years to look ...   \n",
       "606   A tragic true story told as generic, mundane a...   \n",
       "3768  Oh how I was looking forward to a laugh and a ...   \n",
       "6867  Aaron Sorkin is a sort of genius, a word I alm...   \n",
       "4600  Toy Story is the film that started Pixar Anima...   \n",
       "\n",
       "                                      tokenized_reviews  rating  \\\n",
       "8245  [have, use, the, IMDb, review, for, year, to, ...       1   \n",
       "606   [tragic, true, story, tell, as, generic, munda...       2   \n",
       "3768  [oh, how, be, look, forward, to, laugh, and, h...       2   \n",
       "6867  [Aaron, Sorkin, be, sort, of, genius, word, al...      10   \n",
       "4600  [Toy, Story, be, the, film, that, start, Pixar...      10   \n",
       "\n",
       "      sentiment_label  \n",
       "8245                0  \n",
       "606                 0  \n",
       "3768                0  \n",
       "6867                1  \n",
       "4600                1  "
      ]
     },
     "execution_count": 5,
     "metadata": {},
     "output_type": "execute_result"
    }
   ],
   "source": [
    "kmean_data = review_data.copy()\n",
    "kmean_data.sample(5)"
   ]
  },
  {
   "cell_type": "code",
   "execution_count": 6,
   "id": "9f950a7b",
   "metadata": {},
   "outputs": [],
   "source": [
    "x_train,x_test,y_train,y_test=train_test_split(kmean_data[\"review\"],kmean_data[\"sentiment_label\"],test_size=0.3,random_state=0)"
   ]
  },
  {
   "cell_type": "code",
   "execution_count": 7,
   "id": "6cc2db6e",
   "metadata": {},
   "outputs": [],
   "source": [
    "def cluster_kmean(train_text, test_text, test_label, metric = 'Cosine', min_df=5, num=2, repeat=20):\n",
    "    \n",
    "    tfidf_vect = TfidfVectorizer(stop_words=stopwords, min_df=min_df, binary=True)\n",
    "    train = tfidf_vect.fit_transform(train_text)\n",
    "    test = tfidf_vect.transform(test_text)\n",
    "    if metric == 'Cosine':\n",
    "        clusterer = KMeansClusterer(num, cosine_distance, repeats=repeat)\n",
    "        clusters = clusterer.cluster(train.toarray(), assign_clusters=True)\n",
    "        predicted = [clusterer.classify(v) for v in test.toarray()]\n",
    "    else:\n",
    "        clusterer = KMeansClusterer(num, euclidean_distance, repeats=repeat)\n",
    "        clusters = clusterer.cluster(train.toarray(), assign_clusters=True)\n",
    "        predicted = [clusterer.classify(v) for v in test.toarray()]\n",
    "    \n",
    "    confusion_df = pd.DataFrame(list(zip(test_label.values, predicted)), columns=['label', 'cluster'])\n",
    "    cross = pd.crosstab(index=confusion_df.cluster, columns=confusion_df.label)\n",
    "    cluster = []\n",
    "    for x in predicted:\n",
    "        cluster.append(cross.idxmax(axis=\"columns\")[x])\n",
    "    print(classification_report(y_test, cluster))\n",
    "    \n",
    "    definitions = ['Negative','Positive']\n",
    "    con_matrix = confusion_matrix(y_test, cluster)\n",
    "    sns.heatmap(con_matrix, annot=True, xticklabels=definitions, yticklabels=definitions, fmt=\".0f\", cmap=\"crest\")\n",
    "    plt.xlabel('Predicted') \n",
    "    plt.ylabel('Actual') \n",
    "    plt.show()"
   ]
  },
  {
   "cell_type": "code",
   "execution_count": 230,
   "id": "76a3031d",
   "metadata": {},
   "outputs": [
    {
     "name": "stdout",
     "output_type": "stream",
     "text": [
      "              precision    recall  f1-score   support\n",
      "\n",
      "           0       0.60      0.58      0.59       572\n",
      "           1       0.83      0.84      0.83      1361\n",
      "\n",
      "    accuracy                           0.76      1933\n",
      "   macro avg       0.71      0.71      0.71      1933\n",
      "weighted avg       0.76      0.76      0.76      1933\n",
      "\n"
     ]
    },
    {
     "data": {
      "image/png": "[encoded data removed]",
      "text/plain": [
       "<Figure size 640x480 with 2 Axes>"
      ]
     },
     "metadata": {},
     "output_type": "display_data"
    }
   ],
   "source": [
    "cluster = cluster_kmean(x_train, x_test, y_test, 'Cosine', 5, 4, 20)"
   ]
  },
  {
   "cell_type": "code",
   "execution_count": 226,
   "id": "f77ca13c",
   "metadata": {},
   "outputs": [
    {
     "name": "stdout",
     "output_type": "stream",
     "text": [
      "min_df:  4 node:  2\n",
      "              precision    recall  f1-score   support\n",
      "\n",
      "           0       0.58      0.43      0.49       572\n",
      "           1       0.78      0.87      0.82      1361\n",
      "\n",
      "    accuracy                           0.74      1933\n",
      "   macro avg       0.68      0.65      0.66      1933\n",
      "weighted avg       0.72      0.74      0.72      1933\n",
      "\n",
      "min_df:  4 node:  3\n",
      "              precision    recall  f1-score   support\n",
      "\n",
      "           0       0.66      0.54      0.59       572\n",
      "           1       0.82      0.88      0.85      1361\n",
      "\n",
      "    accuracy                           0.78      1933\n",
      "   macro avg       0.74      0.71      0.72      1933\n",
      "weighted avg       0.77      0.78      0.78      1933\n",
      "\n",
      "min_df:  4 node:  4\n",
      "              precision    recall  f1-score   support\n",
      "\n",
      "           0       0.61      0.41      0.49       572\n",
      "           1       0.78      0.89      0.83      1361\n",
      "\n",
      "    accuracy                           0.75      1933\n",
      "   macro avg       0.69      0.65      0.66      1933\n",
      "weighted avg       0.73      0.75      0.73      1933\n",
      "\n",
      "min_df:  4 node:  5\n",
      "              precision    recall  f1-score   support\n",
      "\n",
      "           0       0.60      0.47      0.53       572\n",
      "           1       0.80      0.87      0.83      1361\n",
      "\n",
      "    accuracy                           0.75      1933\n",
      "   macro avg       0.70      0.67      0.68      1933\n",
      "weighted avg       0.74      0.75      0.74      1933\n",
      "\n",
      "min_df:  5 node:  2\n",
      "              precision    recall  f1-score   support\n",
      "\n",
      "           0       0.51      0.25      0.34       572\n",
      "           1       0.74      0.90      0.81      1361\n",
      "\n",
      "    accuracy                           0.71      1933\n",
      "   macro avg       0.63      0.58      0.58      1933\n",
      "weighted avg       0.67      0.71      0.67      1933\n",
      "\n",
      "min_df:  5 node:  3\n",
      "              precision    recall  f1-score   support\n",
      "\n",
      "           0       0.76      0.50      0.61       572\n",
      "           1       0.82      0.93      0.87      1361\n",
      "\n",
      "    accuracy                           0.81      1933\n",
      "   macro avg       0.79      0.72      0.74      1933\n",
      "weighted avg       0.80      0.81      0.79      1933\n",
      "\n",
      "min_df:  5 node:  4\n",
      "              precision    recall  f1-score   support\n",
      "\n",
      "           0       0.68      0.40      0.50       572\n",
      "           1       0.78      0.92      0.85      1361\n",
      "\n",
      "    accuracy                           0.77      1933\n",
      "   macro avg       0.73      0.66      0.68      1933\n",
      "weighted avg       0.75      0.77      0.75      1933\n",
      "\n",
      "min_df:  5 node:  5\n",
      "              precision    recall  f1-score   support\n",
      "\n",
      "           0       0.59      0.54      0.56       572\n",
      "           1       0.81      0.84      0.83      1361\n",
      "\n",
      "    accuracy                           0.75      1933\n",
      "   macro avg       0.70      0.69      0.69      1933\n",
      "weighted avg       0.75      0.75      0.75      1933\n",
      "\n",
      "min_df:  6 node:  2\n",
      "              precision    recall  f1-score   support\n",
      "\n",
      "           0       0.65      0.55      0.60       572\n",
      "           1       0.82      0.88      0.85      1361\n",
      "\n",
      "    accuracy                           0.78      1933\n",
      "   macro avg       0.74      0.71      0.72      1933\n",
      "weighted avg       0.77      0.78      0.77      1933\n",
      "\n",
      "min_df:  6 node:  3\n",
      "              precision    recall  f1-score   support\n",
      "\n",
      "           0       0.69      0.44      0.53       572\n",
      "           1       0.79      0.92      0.85      1361\n",
      "\n",
      "    accuracy                           0.77      1933\n",
      "   macro avg       0.74      0.68      0.69      1933\n",
      "weighted avg       0.76      0.77      0.76      1933\n",
      "\n",
      "min_df:  6 node:  4\n",
      "              precision    recall  f1-score   support\n",
      "\n",
      "           0       0.80      0.50      0.61       572\n",
      "           1       0.82      0.95      0.88      1361\n",
      "\n",
      "    accuracy                           0.81      1933\n",
      "   macro avg       0.81      0.72      0.75      1933\n",
      "weighted avg       0.81      0.81      0.80      1933\n",
      "\n",
      "min_df:  6 node:  5\n",
      "              precision    recall  f1-score   support\n",
      "\n",
      "           0       0.63      0.48      0.54       572\n",
      "           1       0.80      0.88      0.84      1361\n",
      "\n",
      "    accuracy                           0.76      1933\n",
      "   macro avg       0.71      0.68      0.69      1933\n",
      "weighted avg       0.75      0.76      0.75      1933\n",
      "\n",
      "min_df:  7 node:  2\n"
     ]
    },
    {
     "name": "stderr",
     "output_type": "stream",
     "text": [
      "/Library/Frameworks/Python.framework/Versions/3.9/lib/python3.9/site-packages/sklearn/metrics/_classification.py:1344: UndefinedMetricWarning: Precision and F-score are ill-defined and being set to 0.0 in labels with no predicted samples. Use `zero_division` parameter to control this behavior.\n",
      "  _warn_prf(average, modifier, msg_start, len(result))\n",
      "/Library/Frameworks/Python.framework/Versions/3.9/lib/python3.9/site-packages/sklearn/metrics/_classification.py:1344: UndefinedMetricWarning: Precision and F-score are ill-defined and being set to 0.0 in labels with no predicted samples. Use `zero_division` parameter to control this behavior.\n",
      "  _warn_prf(average, modifier, msg_start, len(result))\n",
      "/Library/Frameworks/Python.framework/Versions/3.9/lib/python3.9/site-packages/sklearn/metrics/_classification.py:1344: UndefinedMetricWarning: Precision and F-score are ill-defined and being set to 0.0 in labels with no predicted samples. Use `zero_division` parameter to control this behavior.\n",
      "  _warn_prf(average, modifier, msg_start, len(result))\n"
     ]
    },
    {
     "name": "stdout",
     "output_type": "stream",
     "text": [
      "              precision    recall  f1-score   support\n",
      "\n",
      "           0       0.00      0.00      0.00       572\n",
      "           1       0.70      1.00      0.83      1361\n",
      "\n",
      "    accuracy                           0.70      1933\n",
      "   macro avg       0.35      0.50      0.41      1933\n",
      "weighted avg       0.50      0.70      0.58      1933\n",
      "\n",
      "min_df:  7 node:  3\n",
      "              precision    recall  f1-score   support\n",
      "\n",
      "           0       0.55      0.47      0.51       572\n",
      "           1       0.79      0.84      0.81      1361\n",
      "\n",
      "    accuracy                           0.73      1933\n",
      "   macro avg       0.67      0.65      0.66      1933\n",
      "weighted avg       0.72      0.73      0.72      1933\n",
      "\n",
      "min_df:  7 node:  4\n",
      "              precision    recall  f1-score   support\n",
      "\n",
      "           0       0.67      0.39      0.50       572\n",
      "           1       0.78      0.92      0.85      1361\n",
      "\n",
      "    accuracy                           0.76      1933\n",
      "   macro avg       0.73      0.66      0.67      1933\n",
      "weighted avg       0.75      0.76      0.74      1933\n",
      "\n",
      "min_df:  7 node:  5\n",
      "              precision    recall  f1-score   support\n",
      "\n",
      "           0       0.56      0.59      0.58       572\n",
      "           1       0.82      0.81      0.82      1361\n",
      "\n",
      "    accuracy                           0.74      1933\n",
      "   macro avg       0.69      0.70      0.70      1933\n",
      "weighted avg       0.75      0.74      0.74      1933\n",
      "\n"
     ]
    }
   ],
   "source": [
    "min_dfs = range(4,8)\n",
    "nodes = range(2,6)\n",
    "for min_df in min_dfs:\n",
    "    for node in nodes:\n",
    "        print(\"min_df: \", min_df, \"node: \", node)\n",
    "        cluster = cluster_kmean(x_train, x_test, y_test, 'Cosine', min_df, node, 20)"
   ]
  },
  {
   "cell_type": "code",
   "execution_count": 229,
   "id": "a85aedbc",
   "metadata": {},
   "outputs": [
    {
     "name": "stdout",
     "output_type": "stream",
     "text": [
      "              precision    recall  f1-score   support\n",
      "\n",
      "           0       0.56      0.45      0.50       572\n",
      "           1       0.79      0.85      0.82      1361\n",
      "\n",
      "    accuracy                           0.73      1933\n",
      "   macro avg       0.67      0.65      0.66      1933\n",
      "weighted avg       0.72      0.73      0.72      1933\n",
      "\n"
     ]
    },
    {
     "data": {
      "image/png": "[encoded data removed]",
      "text/plain": [
       "<Figure size 640x480 with 2 Axes>"
      ]
     },
     "metadata": {},
     "output_type": "display_data"
    }
   ],
   "source": [
    "cluster = cluster_kmean(x_train, x_test, y_test, 'Cosine', 6, 4, 20)"
   ]
  },
  {
   "cell_type": "code",
   "execution_count": 10,
   "id": "4a32c9f5",
   "metadata": {},
   "outputs": [
    {
     "name": "stdout",
     "output_type": "stream",
     "text": [
      "              precision    recall  f1-score   support\n",
      "\n",
      "           0       0.65      0.60      0.62       850\n",
      "           1       0.84      0.87      0.85      2050\n",
      "\n",
      "    accuracy                           0.79      2900\n",
      "   macro avg       0.74      0.73      0.74      2900\n",
      "weighted avg       0.78      0.79      0.79      2900\n",
      "\n"
     ]
    },
    {
     "data": {
      "image/png": "[encoded data removed]",
      "text/plain": [
       "<Figure size 640x480 with 2 Axes>"
      ]
     },
     "metadata": {},
     "output_type": "display_data"
    }
   ],
   "source": [
    "cluster = cluster_kmean(x_train, x_test, y_test, 'Cosine', 5, 4, 20)"
   ]
  },
  {
   "cell_type": "code",
   "execution_count": 111,
   "id": "1adf7d16",
   "metadata": {},
   "outputs": [],
   "source": [
    "tfidf_vect = TfidfVectorizer(stop_words=stopwords, min_df=5, binary=True)\n",
    "train = tfidf_vect.fit_transform(kmean_data[\"review\"])\n",
    "\n",
    "clusterer = KMeansClusterer(4, cosine_distance, repeats=20)\n",
    "clusters = clusterer.cluster(train.toarray(), assign_clusters=True)\n",
    "predicted = [clusterer.classify(v) for v in train.toarray()]\n",
    "\n",
    "confusion_df = pd.DataFrame(list(zip(kmean_data[\"sentiment_label\"].values, predicted)), columns=['label', 'cluster'])\n",
    "cross = pd.crosstab(index=confusion_df.cluster, columns=confusion_df.label)"
   ]
  },
  {
   "cell_type": "code",
   "execution_count": 112,
   "id": "9d4c8a0e",
   "metadata": {},
   "outputs": [
    {
     "name": "stdout",
     "output_type": "stream",
     "text": [
      "              precision    recall  f1-score   support\n",
      "\n",
      "           0       0.70      0.61      0.65      2873\n",
      "           1       0.84      0.89      0.87      6792\n",
      "\n",
      "    accuracy                           0.81      9665\n",
      "   macro avg       0.77      0.75      0.76      9665\n",
      "weighted avg       0.80      0.81      0.80      9665\n",
      "\n"
     ]
    },
    {
     "data": {
      "image/png": "[encoded data removed]",
      "text/plain": [
       "<Figure size 640x480 with 2 Axes>"
      ]
     },
     "metadata": {},
     "output_type": "display_data"
    }
   ],
   "source": [
    "cluster = []\n",
    "for x in predicted:\n",
    "    cluster.append(cross.idxmax(axis=\"columns\")[x])\n",
    "print(classification_report(kmean_data[\"sentiment_label\"], cluster))\n",
    "\n",
    "definitions = ['Negative','Positive']\n",
    "con_matrix = confusion_matrix(kmean_data[\"sentiment_label\"], cluster)\n",
    "sns.heatmap(con_matrix, annot=True, xticklabels=definitions, yticklabels=definitions, fmt=\".0f\", cmap=\"crest\")\n",
    "plt.xlabel('Predicted') \n",
    "plt.ylabel('Actual') \n",
    "plt.show()"
   ]
  },
  {
   "cell_type": "code",
   "execution_count": 113,
   "id": "f74f90cf",
   "metadata": {},
   "outputs": [
    {
     "name": "stdout",
     "output_type": "stream",
     "text": [
      "[1, 1, 1, 1, 0, 1, 1, 1, 1, 1, 1, 1, 0, 1, 1, 1, 1, 1, 1, 1, 1, 1, 1, 1, 1, 1, 1, 0, 1, 1, 1, 0, 1, 1, 1, 1, 0, 1, 0, 0, 1, 1, 1, 0, 1, 0, 1, 1, 1, 1, 1, 1, 1, 1, 0, 1, 1, 1, 1, 1, 1, 0, 1, 1, 1, 1, 1, 1, 1, 1, 1, 1, 1, 1, 1, 0, 1, 1, 1, 1, 1, 1, 1, 0, 1, 0, 1, 1, 1, 1, 0, 1, 1, 1, 1, 1, 1, 0, 1, 1, 1, 1, 1, 1, 1, 1, 1, 1, 1, 1, 1, 1, 1, 0, 1, 1, 1, 1, 0, 1, 0, 1, 1, 1, 1, 1, 1, 1, 1, 1, 1, 1, 1, 1, 1, 1, 1, 1, 1, 1, 0, 0, 1, 1, 1, 1, 1, 1, 1, 1, 1, 1, 1, 1, 1, 1, 1, 1, 1, 0, 1, 1, 1, 0, 0, 1, 1, 1, 1, 0, 0, 1, 1, 1, 1, 1, 1, 1, 0, 1, 0, 0, 1, 1, 0, 0, 1, 1, 0, 0, 1, 1, 1, 1, 1, 0, 0, 1, 1, 1, 1, 1, 0, 0, 1, 1, 1, 1, 1, 1, 1, 0, 1, 0, 0, 0, 1, 1, 1, 1, 0, 1, 1, 1, 1, 0, 1, 1, 1, 1, 1, 1, 1, 1, 1, 1, 1, 1, 1, 1, 1, 1, 1, 1, 1, 1, 1, 1, 1, 1, 1, 1, 1, 1, 1, 1, 1, 1, 1, 1, 1, 1, 1, 1, 1, 1, 1, 1, 1, 1, 1, 1, 1, 1, 1, 1, 1, 1, 1, 1, 1, 1, 1, 1, 1, 1, 1, 1, 1, 1, 1, 1, 1, 1, 1, 1, 1, 1, 1, 1, 1, 1, 1, 1, 1, 1, 1, 1, 0, 1, 1, 1, 1, 1, 1, 1, 1, 1, 1, 1, 1, 1, 1, 1, 1, 1, 1, 1, 1, 0, 1, 1, 1, 1, 1, 1, 1, 1, 1, 0, 1, 1, 1, 0, 1, 1, 1, 1, 1, 1, 1, 1, 1, 1, 0, 0, 0, 0, 1, 1, 0, 1, 1, 1, 1, 1, 0, 1, 1, 1, 1, 1, 1, 1, 1, 1, 1, 0, 0, 0, 1, 1, 0, 0, 1, 1, 1, 0, 1, 1, 1, 0, 1, 1, 1, 0, 0, 1, 1, 1, 1, 0, 1, 1, 1, 1, 1, 1, 1, 0, 1, 1, 1, 1, 1, 0, 1, 1, 1, 1, 0, 1, 1, 0, 1, 1, 1, 1, 1, 0, 1, 0, 1, 1, 0, 1, 1, 0, 1, 1, 1, 1, 1, 1, 1, 1, 1, 0, 1, 1, 1, 1, 1, 1, 1, 1, 1, 0, 1, 1, 1, 1, 0, 1, 1, 0, 0, 0, 0, 0, 0, 0, 1, 0, 1, 0, 0, 0, 0, 0, 0, 0, 1, 0, 0, 0, 0, 0, 0, 1, 0, 1, 0, 0, 1, 0, 0, 0, 1, 0, 0, 0, 1, 1, 0, 0, 0, 1, 0, 0, 1, 1, 0, 1, 0, 1, 1, 0, 0, 0, 1, 0, 1, 0, 0, 0, 0, 1, 0, 0, 1, 1, 1, 1, 0, 1, 1, 1, 1, 1, 0, 1, 0, 0, 0, 1, 0, 1, 0, 1, 1, 1, 0, 1, 1, 0, 1, 1, 0, 1, 1, 1, 0, 0, 0, 0, 0, 0, 1, 0, 0, 0, 1, 0, 0, 1, 1, 0, 1, 0, 0, 1, 0, 1, 1, 0, 1, 1, 1, 1, 1, 1, 1, 1, 1, 1, 1, 1, 1, 1, 1, 0, 1, 1, 1, 1, 1, 1, 1, 0, 0, 1, 1, 1, 1, 1, 1, 0, 1, 1, 0, 1, 1, 0, 1, 1, 1, 0, 1, 1, 1, 1, 1, 0, 1, 0, 1, 0, 1, 1, 1, 0, 0, 1, 1, 1, 1, 1, 0, 1, 1, 1, 1, 1, 1, 1, 1, 1, 1, 1, 1, 1, 1, 1, 1, 1, 1, 1, 1, 1, 1, 1, 1, 1, 1, 1, 1, 1, 1, 0, 1, 1, 1, 1, 1, 1, 1, 1, 1, 1, 1, 1, 0, 1, 0, 1, 1, 1, 1, 1, 1, 1, 1, 1, 1, 1, 1, 1, 0, 1, 1, 1, 1, 1, 1, 1, 1, 1, 0, 1, 1, 1, 1, 1, 1, 1, 1, 1, 1, 1, 1, 1, 1, 1, 1, 1, 1, 1, 1, 1, 1, 1, 1, 1, 1, 1, 1, 0, 1, 1, 1, 0, 1, 1, 1, 1, 1, 1, 1, 1, 1, 0, 1, 1, 1, 1, 1, 1, 1, 1, 0, 1, 1, 1, 0, 1, 1, 1, 1, 1, 1, 1, 1, 1, 0, 1, 1, 1, 0, 1, 0, 1, 1, 1, 0, 0, 1, 1, 1, 0, 0, 1, 1, 1, 0, 1, 1, 1, 1, 1, 1, 0, 1, 1, 1, 1, 1, 1, 0, 1, 0, 1, 0, 1, 0, 1, 1, 1, 1, 1, 1, 1, 1, 0, 0, 1, 1, 0, 0, 1, 1, 0, 1, 1, 0, 0, 1, 1, 0, 1, 1, 1, 1, 1, 0, 1, 0, 1, 1, 1, 0, 1, 1, 1, 1, 1, 1, 1, 0, 1, 0, 0, 1, 1, 0, 0, 1, 1, 1, 1, 0, 1, 1, 1, 1, 1, 1, 1, 0, 1, 1, 1, 0, 0, 1, 0, 1, 1, 1, 1, 1, 1, 1, 0, 1, 1, 1, 1, 1, 1, 1, 1, 1, 0, 1, 1, 1, 1, 1, 1, 1, 1, 0, 1, 0, 1, 0, 0, 1, 1, 1, 1, 0, 0, 1, 1, 1, 0, 1, 1, 0, 1, 1, 1, 1, 1, 1, 0, 1, 1, 1, 0, 0, 1, 1, 1, 0, 1, 1, 0, 1, 1, 1, 0, 1, 1, 1, 1, 0, 1, 1, 0, 1, 0, 1, 1, 1, 0, 0, 1, 1, 1, 1, 0, 1, 1, 1, 1, 0, 1, 1, 1, 0, 0, 1, 1, 1, 0, 0, 1, 0, 1, 1, 0, 1, 1, 1, 1, 1, 1, 0, 1, 1, 1, 1, 0, 0, 1, 1, 1, 0, 1, 1, 1, 1, 1, 1, 1, 1, 1, 0, 0, 1, 1, 1, 1, 1, 1, 1, 1, 1, 1, 1, 1, 0, 0, 1, 0, 1, 1, 0, 0, 1, 1, 0, 1, 1, 1, 1, 1, 1, 1, 1, 1, 1, 1, 1, 1, 1, 1, 0, 1, 1, 1, 1, 1, 1, 1, 1, 1, 1, 1, 1, 1, 1, 1, 1, 1, 1, 1, 1, 1, 1, 1, 1, 1, 0, 1, 1, 1, 1, 1, 1, 1, 1, 1, 1, 1, 1, 1, 1, 1, 0, 1, 1, 1, 1, 1, 1, 1, 1, 1, 1, 1, 1, 1, 1, 1, 1, 1, 1, 1, 1, 1, 1, 1, 1, 1, 1, 1, 1, 1, 1, 1, 1, 1, 1, 1, 1, 1, 1, 1, 1, 1, 1, 1, 0, 1, 1, 1, 1, 1, 1, 1, 1, 1, 1, 1, 1, 1, 1, 1, 1, 1, 1, 1, 1, 1, 1, 1, 1, 1, 1, 1, 1, 0, 1, 1, 1, 0, 1, 1, 1, 1, 1, 1, 1, 1, 1, 1, 0, 1, 1, 1, 1, 1, 1, 1, 0, 1, 1, 1, 1, 1, 1, 1, 1, 1, 1, 1, 0, 1, 1, 1, 0, 1, 1, 1, 1, 1, 1, 1, 1, 1, 1, 1, 0, 1, 0, 1, 0, 1, 1, 1, 0, 1, 0, 1, 1, 1, 1, 1, 1, 0, 1, 0, 1, 0, 0, 0, 0, 1, 1, 1, 1, 0, 1, 1, 1, 1, 0, 0, 1, 0, 1, 1, 1, 1, 1, 1, 1, 0, 1, 1, 0, 0, 0, 1, 0, 1, 1, 1, 0, 0, 1, 1, 1, 1, 0, 1, 1, 0, 1, 1, 0, 0, 0, 0, 1, 0, 0, 0, 0, 0, 1, 1, 0, 0, 0, 0, 0, 0, 0, 0, 0, 0, 0, 0, 0, 0, 0, 0, 0, 1, 0, 0, 1, 0, 1, 0, 0, 0, 0, 0, 0, 0, 1, 1, 1, 0, 0, 1, 0, 0, 1, 0, 0, 0, 0, 0, 1, 0, 0, 0, 1, 0, 1, 0, 1, 0, 0, 1, 0, 0, 0, 0, 0, 0, 0, 1, 0, 0, 0, 0, 0, 0, 0, 0, 0, 0, 0, 0, 1, 1, 0, 1, 0, 1, 0, 1, 0, 1, 0, 0, 1, 0, 0, 0, 0, 1, 0, 0, 0, 0, 0, 0, 1, 0, 1, 1, 1, 1, 1, 1, 1, 1, 1, 1, 1, 1, 1, 1, 1, 1, 1, 1, 1, 1, 1, 1, 1, 1, 1, 1, 1, 1, 1, 1, 1, 1, 1, 1, 1, 1, 1, 1, 1, 1, 1, 1, 1, 1, 1, 1, 1, 1, 1, 1, 1, 1, 0, 1, 1, 1, 1, 1, 1, 1, 1, 1, 1, 1, 1, 1, 1, 1, 1, 1, 1, 1, 1, 1, 1, 1, 1, 1, 0, 1, 1, 1, 1, 1, 1, 1, 1, 1, 1, 1, 1, 1, 1, 1, 1, 1, 1, 1, 1, 1, 1, 1, 0, 1, 1, 1, 1, 1, 1, 1, 1, 1, 1, 1, 1, 1, 1, 1, 1, 1, 1, 1, 0, 1, 1, 1, 1, 1, 1, 1, 1, 1, 1, 1, 1, 1, 1, 0, 1, 0, 1, 1, 1, 1, 1, 1, 1, 1, 1, 1, 1, 0, 1, 1, 1, 1, 1, 1, 1, 1, 1, 1, 1, 0, 1, 0, 0, 0, 1, 1, 1, 1, 1, 1, 1, 0, 1, 1, 1, 0, 1, 1, 0, 1, 1, 1, 0, 1, 0, 1, 1, 1, 1, 0, 1, 1, 1, 1, 1, 1, 1, 1, 0, 1, 1, 0, 1, 1, 1, 1, 1, 1, 0, 0, 1, 1, 1, 1, 1, 0, 1, 1, 0, 1, 1, 1, 0, 1, 0, 1, 1, 0, 1, 1, 1, 1, 1, 1, 1, 1, 0, 1, 1, 1, 1, 1, 0, 1, 1, 1, 1, 1, 1, 1, 1, 1, 0, 1, 0, 0, 0, 1, 1, 1, 0, 0, 1, 0, 0, 1, 1, 1, 0, 1, 0, 1, 1, 1, 0, 1, 0, 1, 1, 1, 1, 1, 0, 1, 1, 1, 1, 0, 0, 0, 1, 0, 1, 0, 0, 0, 0, 1, 1, 1, 1, 1, 0, 0, 1, 0, 0, 0, 1, 1, 0, 1, 0, 1, 0, 1, 0, 0, 1, 0, 1, 0, 0, 0, 0, 0, 0, 0, 1, 0, 0, 1, 0, 0, 0, 1, 1, 0, 0, 0, 0, 1, 0, 1, 0, 0, 1, 0, 1, 1, 1, 1, 0, 0, 1, 1, 1, 1, 1, 1, 1, 1, 1, 1, 1, 1, 1, 1, 1, 1, 1, 1, 1, 0, 1, 1, 1, 1, 1, 1, 1, 1, 1, 1, 1, 1, 1, 1, 1, 1, 1, 1, 1, 1, 1, 1, 1, 1, 1, 1, 1, 1, 1, 1, 1, 1, 1, 1, 1, 1, 1, 1, 0, 1, 1, 1, 1, 1, 1, 1, 1, 1, 1, 1, 1, 1, 1, 1, 1, 0, 1, 0, 0, 1, 1, 1, 0, 1, 1, 1, 1, 1, 1, 1, 1, 1, 1, 1, 1, 1, 1, 1, 1, 1, 1, 1, 1, 1, 1, 1, 1, 1, 1, 1, 1, 1, 1, 1, 1, 1, 1, 0, 1, 1, 1, 1, 1, 1, 1, 1, 1, 1, 1, 1, 1, 1, 1, 1, 1, 1, 1, 1, 1, 1, 1, 1, 1, 1, 1, 1, 1, 1, 1, 1, 1, 0, 1, 1, 1, 1, 1, 1, 1, 1, 1, 1, 1, 1, 1, 1, 1, 1, 1, 1, 1, 1, 1, 1, 1, 1, 1, 1, 0, 1, 0, 1, 1, 0, 1, 1, 0, 1, 1, 1, 1, 1, 1, 1, 1, 1, 1, 1, 1, 1, 0, 1, 1, 1, 1, 1, 1, 1, 1, 1, 1, 1, 1, 1, 1, 1, 1, 0, 1, 1, 1, 1, 0, 1, 1, 1, 1, 1, 1, 1, 1, 1, 1, 1, 1, 1, 0, 1, 1, 1, 1, 1, 1, 1, 1, 1, 1, 1, 1, 1, 1, 1, 1, 1, 1, 1, 1, 1, 1, 1, 1, 1, 1, 1, 1, 1, 1, 1, 1, 1, 1, 1, 1, 0, 1, 1, 1, 0, 1, 1, 1, 1, 1, 1, 1, 1, 1, 1, 1, 1, 1, 1, 1, 0, 1, 0, 1, 1, 1, 1, 1, 1, 1, 1, 1, 1, 1, 1, 0, 1, 1, 1, 1, 1, 1, 1, 1, 1, 1, 1, 1, 1, 1, 1, 1, 1, 1, 1, 0, 1, 1, 1, 1, 1, 1, 1, 1, 0, 0, 1, 1, 1, 1, 1, 1, 1, 1, 1, 1, 1, 1, 1, 1, 1, 1, 1, 1, 1, 1, 1, 0, 1, 1, 1, 1, 1, 1, 1, 0, 1, 1, 1, 1, 1, 1, 1, 1, 1, 0, 0, 1, 1, 1, 1, 1, 1, 1, 1, 1, 1, 1, 1, 1, 1, 1, 1, 1, 1, 1, 1, 1, 1, 0, 1, 1, 1, 1, 1, 1, 1, 1, 1, 1, 1, 1, 1, 1, 1, 1, 1, 1, 1, 1, 1, 1, 0, 1, 1, 1, 1, 1, 1, 1, 1, 1, 0, 1, 1, 1, 1, 1, 1, 0, 1, 1, 1, 1, 1, 1, 1, 1, 1, 0, 1, 1, 1, 1, 1, 1, 1, 1, 1, 1, 1, 1, 1, 1, 1, 1, 1, 1, 1, 1, 1, 1, 1, 1, 1, 1, 1, 1, 1, 1, 1, 1, 1, 1, 1, 1, 1, 1, 1, 1, 1, 1, 1, 1, 1, 1, 1, 1, 1, 1, 1, 1, 1, 1, 1, 1, 1, 1, 1, 1, 1, 1, 1, 1, 1, 1, 1, 1, 1, 1, 1, 1, 1, 1, 1, 1, 1, 1, 1, 1, 1, 1, 1, 1, 1, 1, 1, 1, 1, 1, 1, 1, 1, 1, 1, 1, 1, 1, 1, 1, 1, 1, 1, 1, 1, 1, 1, 1, 1, 1, 1, 1, 1, 1, 1, 1, 1, 1, 1, 1, 1, 1, 1, 1, 1, 1, 1, 0, 1, 1, 1, 1, 1, 0, 1, 1, 1, 1, 1, 1, 0, 1, 0, 1, 1, 0, 1, 1, 1, 1, 1, 1, 1, 1, 1, 1, 1, 1, 1, 1, 1, 0, 1, 1, 1, 0, 1, 0, 0, 1, 0, 0, 1, 1, 1, 0, 1, 1, 1, 1, 1, 1, 1, 1, 1, 1, 1, 1, 1, 1, 0, 1, 1, 0, 0, 1, 1, 1, 1, 1, 1, 1, 1, 1, 1, 1, 1, 1, 1, 1, 1, 1, 1, 0, 1, 1, 1, 1, 1, 1, 1, 1, 1, 1, 1, 1, 1, 1, 1, 1, 1, 1, 1, 1, 1, 1, 1, 1, 1, 1, 1, 1, 1, 1, 1, 1, 1, 1, 0, 1, 0, 1, 1, 1, 0, 1, 1, 1, 0, 1, 1, 0, 0, 1, 0, 0, 1, 0, 1, 1, 1, 1, 1, 1, 1, 1, 1, 1, 1, 0, 1, 1, 1, 1, 1, 1, 1, 0, 1, 1, 0, 1, 0, 1, 1, 1, 1, 1, 0, 1, 1, 1, 1, 1, 0, 1, 1, 1, 1, 1, 1, 1, 1, 1, 1, 1, 1, 1, 1, 0, 0, 1, 1, 1, 1, 1, 1, 1, 0, 1, 1, 0, 1, 0, 1, 1, 0, 1, 0, 1, 1, 0, 1, 1, 1, 1, 1, 1, 1, 1, 1, 1, 1, 1, 1, 1, 1, 1, 1, 1, 1, 1, 0, 1, 1, 1, 1, 1, 1, 1, 1, 1, 1, 1, 1, 1, 1, 1, 1, 1, 1, 1, 1, 1, 1, 1, 1, 1, 1, 1, 1, 1, 1, 1, 1, 1, 1, 1, 1, 0, 1, 1, 1, 1, 1, 1, 1, 1, 1, 1, 1, 1, 1, 0, 1, 1, 1, 1, 1, 1, 1, 1, 1, 1, 1, 1, 0, 1, 1, 1, 1, 1, 1, 1, 1, 1, 1, 1, 1, 1, 1, 1, 1, 1, 1, 1, 1, 1, 1, 1, 1, 1, 1, 1, 1, 1, 1, 1, 1, 1, 0, 1, 1, 1, 1, 1, 1, 1, 1, 1, 1, 1, 1, 1, 1, 1, 1, 0, 1, 1, 1, 0, 1, 1, 1, 1, 1, 1, 1, 1, 1, 1, 1, 1, 1, 1, 1, 1, 1, 1, 1, 1, 1, 1, 1, 1, 1, 0, 0, 1, 1, 0, 1, 1, 1, 1, 1, 1, 0, 1, 1, 1, 1, 1, 0, 1, 1, 1, 1, 1, 1, 1, 1, 1, 1, 0, 1, 1, 1, 1, 1, 1, 1, 1, 1, 1, 1, 1, 1, 1, 1, 1, 1, 1, 1, 1, 0, 1, 1, 1, 0, 1, 1, 1, 1, 0, 1, 1, 1, 1, 1, 1, 1, 0, 1, 1, 1, 0, 1, 1, 0, 1, 0, 0, 1, 1, 1, 1, 1, 1, 0, 0, 0, 0, 0, 1, 0, 1, 0, 1, 0, 0, 1, 1, 0, 1, 1, 1, 1, 1, 1, 1, 1, 0, 1, 1, 0, 0, 0, 1, 1, 0, 0, 1, 1, 0, 0, 0, 0, 1, 1, 0, 0, 1, 0, 0, 1, 1, 1, 1, 0, 1, 1, 1, 1, 1, 1, 0, 1, 0, 0, 1, 0, 1, 1, 1, 0, 1, 1, 1, 1, 1, 1, 0, 0, 0, 1, 1, 0, 0, 1, 1, 1, 0, 1, 1, 1, 1, 1, 1, 0, 0, 0, 0, 1, 0, 0, 0, 1, 1, 0, 0, 0, 0, 1, 0, 0, 0, 0, 0, 0, 0, 0, 1, 0, 0, 0, 0, 0, 0, 1, 0, 0, 0, 1, 0, 1, 1, 0, 0, 0, 1, 0, 0, 1, 0, 1, 1, 0, 0, 0, 1, 1, 1, 0, 1, 1, 1, 1, 0, 0, 1, 0, 1, 0, 0, 0, 0, 0, 0, 1, 1, 1, 1, 1, 0, 1, 0, 0, 1, 0, 0, 1, 1, 0, 1, 1, 0, 1, 0, 0, 0, 0, 1, 0, 1, 0, 0, 0, 0, 0, 0, 0, 0, 0, 0, 0, 1, 0, 0, 0, 0, 0, 0, 0, 0, 0, 0, 0, 0, 1, 1, 1, 1, 1, 1, 1, 1, 1, 1, 1, 1, 1, 1, 1, 1, 1, 1, 1, 1, 1, 1, 1, 1, 1, 1, 1, 1, 1, 1, 1, 0, 1, 1, 1, 1, 1, 0, 0, 1, 0, 1, 1, 1, 1, 1, 1, 1, 1, 1, 1, 1, 1, 1, 1, 1, 1, 1, 1, 1, 1, 1, 1, 1, 1, 1, 1, 1, 1, 1, 1, 1, 1, 1, 1, 1, 1, 1, 1, 1, 1, 1, 1, 1, 1, 1, 1, 1, 1, 1, 1, 0, 0, 1, 1, 1, 1, 0, 1, 1, 1, 1, 1, 1, 1, 1, 1, 1, 0, 1, 1, 1, 1, 1, 1, 1, 1, 1, 1, 1, 1, 1, 1, 1, 1, 1, 1, 1, 1, 1, 1, 1, 1, 1, 1, 1, 1, 1, 1, 1, 1, 0, 1, 1, 1, 1, 1, 1, 1, 1, 1, 1, 1, 1, 1, 1, 1, 1, 1, 1, 1, 1, 1, 1, 1, 1, 1, 1, 1, 1, 1, 0, 1, 1, 1, 0, 1, 0, 1, 1, 1, 0, 1, 1, 1, 1, 1, 1, 1, 1, 1, 1, 0, 1, 1, 1, 1, 1, 1, 1, 1, 1, 1, 1, 1, 1, 1, 1, 1, 1, 1, 0, 1, 1, 1, 0, 1, 1, 1, 1, 1, 1, 1, 1, 1, 1, 1, 0, 1, 1, 0, 0, 0, 1, 0, 1, 1, 1, 0, 0, 1, 0, 1, 1, 0, 0, 1, 0, 1, 0, 1, 0, 0, 0, 1, 1, 1, 1, 0, 1, 1, 0, 1, 0, 1, 1, 1, 1, 0, 1, 0, 0, 0, 0, 0, 0, 0, 0, 0, 1, 0, 1, 1, 0, 1, 0, 0, 0, 0, 1, 0, 1, 0, 0, 0, 0, 1, 0, 0, 0, 0, 1, 0, 1, 1, 0, 0, 1, 0, 0, 1, 0, 0, 1, 1, 1, 1, 1, 1, 0, 0, 0, 1, 0, 1, 0, 0, 1, 0, 1, 0, 0, 1, 1, 1, 0, 0, 1, 1, 0, 1, 0, 0, 0, 1, 0, 0, 0, 0, 1, 1, 1, 1, 1, 1, 1, 1, 1, 1, 1, 1, 1, 1, 1, 1, 1, 1, 1, 1, 1, 1, 1, 1, 1, 1, 1, 1, 1, 1, 1, 1, 1, 1, 1, 1, 1, 1, 1, 1, 1, 1, 1, 1, 1, 1, 1, 1, 1, 1, 1, 1, 1, 1, 1, 1, 1, 1, 1, 1, 1, 1, 1, 1, 1, 1, 1, 1, 0, 1, 1, 1, 1, 1, 1, 0, 1, 1, 1, 1, 1, 1, 1, 1, 1, 1, 1, 1, 1, 1, 0, 1, 1, 1, 1, 1, 1, 1, 1, 0, 1, 1, 1, 1, 1, 1, 1, 1, 1, 0, 0, 0, 0, 1, 0, 0, 0, 0, 0, 0, 0, 0, 0, 0, 0, 0, 1, 0, 0, 0, 1, 0, 0, 0, 0, 0, 0, 0, 0, 0, 0, 1, 0, 0, 0, 0, 0, 0, 0, 0, 0, 0, 1, 1, 0, 0, 0, 0, 0, 0, 0, 0, 0, 0, 0, 1, 0, 0, 1, 0, 0, 0, 0, 0, 0, 0, 1, 0, 0, 0, 0, 0, 1, 0, 0, 0, 0, 0, 0, 0, 0, 1, 1, 1, 0, 0, 0, 1, 0, 1, 1, 0, 1, 0, 0, 1, 0, 0, 0, 0, 1, 0, 0, 0, 0, 0, 0, 1, 1, 0, 0, 0, 0, 0, 0, 0, 0, 0, 0, 1, 1, 0, 1, 1, 1, 1, 1, 1, 1, 1, 1, 1, 1, 1, 1, 1, 1, 1, 1, 1, 1, 1, 1, 1, 1, 0, 1, 1, 0, 1, 1, 0, 1, 1, 1, 1, 1, 1, 1, 1, 1, 1, 1, 1, 1, 1, 1, 1, 1, 1, 1, 1, 1, 1, 1, 1, 1, 1, 1, 1, 1, 1, 1, 1, 1, 0, 1, 1, 1, 1, 1, 0, 1, 0, 1, 0, 1, 1, 1, 1, 1, 0, 0, 1, 0, 1, 1, 1, 1, 1, 1, 1, 0, 0, 1, 1, 1, 1, 1, 1, 1, 1, 1, 0, 1, 1, 1, 0, 1, 1, 1, 1, 1, 1, 1, 1, 1, 1, 1, 1, 1, 1, 1, 1, 1, 1, 0, 1, 0, 1, 1, 1, 0, 1, 0, 0, 1, 0, 0, 1, 0, 0, 0, 1, 0, 1, 1, 0, 1, 0, 0, 1, 0, 1, 0, 1, 1, 0, 0, 0, 0, 0, 0, 0, 1, 1, 0, 1, 0, 0, 0, 1, 1, 1, 1, 1, 0, 1, 1, 0, 0, 1, 1, 1, 1, 0, 0, 0, 0, 1, 1, 1, 1, 0, 1, 1, 1, 1, 1, 0, 1, 0, 1, 1, 1, 0, 1, 1, 0, 0, 1, 1, 1, 1, 1, 1, 1, 0, 1, 1, 1, 1, 1, 1, 1, 1, 1, 1, 1, 1, 1, 1, 0, 1, 1, 0, 1, 0, 0, 0, 1, 0, 0, 1, 0, 1, 1, 0, 0, 1, 0, 0, 0, 0, 0, 0, 0, 0, 0, 1, 0, 1, 0, 1, 0, 1, 0, 1, 0, 0, 0, 0, 0, 0, 1, 0, 1, 0, 1, 0, 1, 1, 0, 0, 0, 0, 0, 0, 0, 1, 1, 0, 1, 0, 0, 0, 0, 0, 0, 0, 1, 1, 0, 0, 0, 0, 0, 0, 1, 0, 1, 1, 0, 0, 1, 0, 0, 0, 1, 0, 0, 1, 1, 0, 0, 0, 0, 1, 0, 0, 1, 0, 0, 0, 0, 0, 0, 0, 0, 1, 0, 0, 0, 1, 0, 1, 0, 1, 0, 1, 0, 0, 0, 0, 0, 0, 1, 0, 0, 1, 1, 1, 1, 1, 1, 1, 1, 1, 1, 1, 0, 1, 1, 1, 1, 1, 1, 1, 1, 1, 1, 1, 1, 1, 1, 1, 1, 1, 1, 1, 1, 1, 1, 1, 1, 1, 0, 1, 1, 1, 1, 1, 1, 1, 1, 1, 1, 1, 1, 1, 1, 0, 1, 1, 1, 0, 1, 0, 1, 0, 1, 1, 1, 1, 1, 1, 1, 1, 1, 1, 0, 1, 1, 1, 1, 0, 1, 1, 1, 1, 1, 1, 1, 1, 1, 1, 1, 1, 1, 1, 1, 1, 1, 1, 1, 1, 1, 1, 1, 0, 1, 1, 1, 1, 1, 1, 1, 1, 1, 1, 1, 1, 1, 1, 0, 1, 1, 1, 1, 1, 1, 1, 1, 0, 1, 1, 1, 0, 1, 1, 1, 1, 1, 1, 1, 1, 1, 0, 1, 1, 1, 1, 1, 1, 1, 1, 1, 0, 0, 1, 1, 0, 0, 1, 1, 1, 1, 1, 0, 1, 1, 1, 1, 1, 1, 1, 1, 1, 1, 1, 0, 1, 1, 1, 1, 1, 1, 1, 1, 0, 1, 1, 1, 1, 1, 1, 1, 1, 1, 1, 1, 1, 1, 1, 1, 1, 1, 1, 1, 1, 1, 1, 1, 1, 1, 1, 1, 1, 1, 1, 1, 1, 1, 1, 0, 1, 1, 1, 1, 1, 0, 1, 1, 1, 1, 1, 1, 1, 1, 1, 0, 1, 1, 1, 1, 0, 1, 0, 1, 1, 1, 0, 1, 1, 1, 1, 1, 1, 1, 1, 1, 1, 1, 1, 1, 1, 1, 0, 1, 1, 1, 1, 0, 1, 1, 1, 0, 1, 1, 1, 1, 1, 1, 1, 1, 1, 1, 0, 1, 1, 0, 0, 0, 1, 1, 0, 1, 0, 0, 1, 0, 1, 0, 1, 0, 1, 0, 0, 1, 0, 1, 0, 1, 1, 0, 1, 1, 1, 1, 1, 0, 0, 1, 0, 0, 1, 1, 0, 0, 0, 0, 1, 1, 1, 0, 0, 1, 1, 0, 1, 1, 0, 0, 1, 0, 1, 1, 1, 1, 1, 1, 1, 1, 1, 1, 1, 1, 1, 1, 1, 1, 1, 1, 1, 1, 1, 1, 1, 1, 1, 1, 1, 0, 1, 1, 1, 1, 1, 1, 1, 1, 1, 1, 1, 1, 1, 1, 0, 1, 1, 1, 1, 1, 1, 1, 1, 1, 1, 0, 1, 1, 1, 1, 1, 1, 1, 1, 1, 1, 1, 1, 1, 1, 1, 1, 1, 1, 1, 1, 1, 1, 1, 1, 0, 1, 1, 0, 1, 0, 1, 1, 1, 1, 1, 1, 1, 1, 1, 1, 1, 1, 1, 1, 1, 1, 1, 0, 1, 1, 1, 1, 1, 1, 1, 1, 1, 1, 1, 1, 1, 1, 1, 1, 1, 1, 1, 1, 1, 1, 1, 1, 1, 1, 1, 1, 1, 1, 1, 1, 0, 0, 1, 0, 1, 1, 1, 1, 1, 1, 0, 0, 1, 0, 0, 1, 1, 1, 1, 1, 1, 0, 1, 1, 1, 1, 1, 0, 1, 1, 0, 1, 0, 1, 1, 1, 1, 0, 1, 0, 1, 1, 1, 0, 0, 0, 0, 1, 1, 1, 1, 1, 0, 1, 1, 1, 1, 1, 0, 1, 0, 1, 1, 1, 0, 1, 1, 1, 1, 1, 0, 0, 1, 1, 1, 1, 1, 1, 1, 1, 1, 1, 0, 1, 1, 0, 0, 0, 1, 1, 1, 1, 1, 1, 1, 1, 1, 1, 1, 1, 1, 1, 1, 1, 1, 1, 1, 1, 1, 1, 1, 1, 1, 1, 1, 1, 1, 1, 1, 1, 1, 1, 1, 1, 1, 1, 1, 1, 1, 0, 1, 1, 1, 1, 1, 1, 1, 1, 1, 1, 1, 1, 1, 1, 1, 1, 1, 1, 1, 1, 1, 1, 1, 1, 1, 1, 1, 1, 1, 1, 1, 1, 1, 1, 1, 1, 1, 1, 1, 1, 1, 0, 1, 1, 1, 1, 1, 1, 1, 1, 1, 1, 1, 1, 1, 1, 1, 1, 1, 1, 1, 1, 1, 1, 1, 1, 1, 1, 1, 1, 1, 1, 1, 1, 1, 1, 1, 1, 1, 1, 1, 1, 1, 1, 1, 1, 1, 1, 1, 0, 1, 1, 1, 1, 1, 1, 1, 1, 1, 1, 1, 1, 1, 1, 1, 1, 1, 1, 1, 1, 1, 1, 1, 0, 1, 1, 1, 1, 1, 1, 1, 1, 1, 1, 1, 1, 1, 1, 1, 1, 1, 0, 1, 1, 1, 1, 1, 1, 1, 1, 1, 1, 1, 1, 1, 1, 1, 1, 1, 1, 0, 0, 1, 1, 1, 1, 1, 1, 1, 1, 1, 0, 0, 1, 1, 1, 1, 1, 1, 1, 1, 1, 1, 0, 1, 1, 0, 1, 1, 1, 1, 1, 1, 1, 1, 1, 1, 0, 1, 1, 0, 0, 1, 0, 0, 0, 0, 1, 0, 0, 0, 0, 0, 0, 1, 0, 1, 0, 0, 0, 0, 0, 1, 0, 0, 1, 0, 0, 1, 1, 0, 0, 1, 0, 0, 0, 0, 0, 1, 1, 0, 0, 0, 0, 1, 1, 0, 0, 0, 0, 0, 0, 0, 0, 0, 0, 0, 0, 0, 1, 0, 0, 0, 0, 0, 0, 0, 0, 0, 0, 0, 0, 0, 0, 0, 0, 1, 0, 0, 1, 0, 0, 1, 1, 0, 0, 0, 0, 0, 0, 0, 0, 0, 0, 0, 0, 0, 0, 0, 1, 0, 0, 0, 0, 0, 0, 0, 1, 0, 0, 0, 0, 0, 0, 0, 0, 0, 1, 0, 0, 0, 0, 1, 0, 1, 0, 1, 0, 1, 1, 0, 0, 0, 1, 1, 1, 0, 0, 1, 0, 1, 1, 1, 0, 0, 1, 0, 1, 0, 1, 1, 1, 1, 0, 1, 0, 0, 0, 1, 1, 0, 0, 1, 0, 0, 0, 0, 1, 1, 0, 0, 0, 1, 0, 0, 1, 1, 0, 0, 1, 0, 0, 1, 0, 1, 0, 1, 0, 1, 0, 1, 1, 1, 1, 0, 1, 1, 1, 1, 1, 0, 0, 1, 0, 0, 0, 1, 1, 0, 0, 0, 0, 1, 1, 1, 0, 1, 0, 0, 1, 0, 1, 1, 1, 0, 0, 0, 1, 0, 1, 1, 1, 0, 1, 1, 1, 0, 0, 1, 0, 1, 1, 1, 0, 1, 1, 0, 1, 0, 1, 1, 1, 1, 1, 1, 0, 1, 1, 1, 1, 0, 0, 1, 1, 0, 1, 0, 0, 1, 1, 0, 1, 1, 1, 0, 1, 1, 1, 1, 1, 0, 1, 0, 1, 0, 1, 0, 0, 1, 1, 1, 0, 0, 1, 0, 0, 1, 0, 1, 0, 0, 1, 1, 1, 1, 1, 1, 0, 1, 0, 0, 1, 0, 1, 1, 1, 1, 1, 1, 1, 1, 0, 1, 0, 1, 1, 0, 0, 1, 1, 0, 1, 1, 1, 1, 1, 0, 1, 1, 1, 0, 1, 1, 1, 0, 1, 0, 1, 1, 1, 0, 1, 1, 1, 1, 0, 1, 1, 0, 0, 1, 1, 0, 0, 1, 1, 1, 0, 1, 0, 0, 0, 1, 0, 1, 0, 0, 1, 0, 0, 0, 0, 0, 0, 0, 0, 0, 1, 0, 1, 0, 1, 0, 0, 1, 0, 0, 1, 1, 0, 0, 1, 0, 1, 0, 1, 0, 0, 0, 0, 1, 0, 1, 0, 0, 0, 0, 1, 0, 0, 0, 0, 0, 0, 0, 0, 0, 1, 0, 0, 0, 1, 0, 0, 0, 0, 0, 0, 0, 1, 0, 1, 0, 0, 0, 0, 1, 1, 1, 0, 0, 1, 0, 1, 0, 1, 0, 0, 1, 1, 0, 0, 1, 0, 1, 0, 0, 1, 0, 1, 0, 1, 1, 0, 0, 1, 0, 0, 0, 0, 0, 0, 0, 1, 0, 0, 1, 0, 1, 0, 0, 0, 1, 1, 0, 1, 0, 0, 0, 1, 0, 0, 0, 0, 0, 0, 0, 1, 1, 0, 0, 0, 1, 0, 0, 1, 1, 0, 1, 0, 0, 0, 1, 0, 0, 0, 1, 1, 1, 1, 1, 0, 1, 0, 0, 1, 0, 1, 0, 0, 1, 0, 0, 0, 0, 1, 0, 1, 1, 0, 0, 1, 1, 1, 0, 1, 0, 1, 1, 0, 0, 1, 0, 1, 0, 0, 0, 0, 0, 0, 0, 1, 0, 0, 1, 1, 1, 0, 0, 1, 1, 1, 0, 0, 0, 0, 0, 0, 0, 1, 1, 0, 0, 0, 0, 0, 0, 0, 0, 1, 0, 0, 1, 1, 1, 1, 1, 1, 1, 1, 1, 1, 1, 1, 0, 1, 1, 1, 1, 1, 1, 0, 1, 1, 0, 1, 1, 1, 0, 1, 1, 1, 1, 0, 1, 0, 0, 0, 1, 0, 1, 0, 1, 1, 1, 0, 0, 1, 1, 0, 1, 0, 0, 1, 1, 1, 0, 1, 0, 1, 1, 1, 1, 1, 0, 1, 0, 1, 0, 1, 1, 1, 0, 0, 1, 1, 1, 1, 1, 0, 1, 1, 1, 1, 0, 0, 0, 1, 1, 0, 0, 1, 1, 1, 0, 1, 1, 0, 1, 1, 1, 1, 1, 1, 1, 0, 0, 1, 0, 1, 1, 1, 1, 1, 0, 0, 1, 0, 1, 1, 0, 0, 1, 1, 0, 1, 0, 0, 0, 0, 1, 0, 0, 0, 0, 1, 0, 0, 0, 0, 0, 0, 1, 0, 1, 1, 0, 0, 0, 1, 1, 1, 1, 0, 0, 0, 0, 0, 0, 0, 0, 0, 0, 0, 0, 0, 0, 0, 0, 0, 0, 0, 0, 0, 0, 1, 0, 0, 0, 0, 0, 0, 0, 0, 0, 0, 0, 0, 0, 0, 0, 0, 0, 0, 0, 0, 0, 0, 0, 0, 0, 0, 0, 0, 0, 0, 0, 0, 0, 0, 0, 0, 0, 0, 0, 0, 0, 0, 0, 0, 0, 0, 0, 0, 0, 0, 0, 0, 0, 0, 0, 0, 0, 0, 0, 0, 0, 0, 0, 0, 1, 1, 1, 1, 1, 1, 1, 0, 1, 1, 1, 1, 1, 1, 1, 1, 1, 1, 1, 1, 1, 0, 1, 1, 1, 1, 1, 1, 0, 1, 1, 1, 1, 1, 1, 1, 1, 0, 1, 1, 1, 1, 1, 1, 1, 1, 1, 1, 1, 1, 1, 0, 1, 1, 1, 1, 1, 1, 1, 1, 1, 0, 1, 1, 1, 1, 0, 1, 1, 1, 0, 0, 1, 1, 1, 1, 1, 1, 1, 1, 1, 1, 1, 1, 1, 1, 1, 1, 1, 1, 1, 0, 1, 1, 1, 1, 1, 1, 0, 1, 1, 0, 1, 1, 1, 1, 1, 1, 1, 1, 1, 1, 1, 1, 1, 1, 0, 0, 0, 0, 0, 1, 0, 0, 0, 0, 0, 0, 0, 0, 0, 0, 0, 0, 0, 0, 0, 0, 0, 0, 0, 0, 1, 0, 0, 0, 0, 0, 0, 0, 0, 0, 0, 0, 0, 1, 0, 0, 0, 0, 0, 0, 0, 0, 0, 1, 0, 0, 1, 0, 0, 0, 0, 0, 0, 0, 0, 0, 0, 0, 0, 0, 0, 0, 0, 0, 0, 1, 0, 0, 0, 0, 0, 0, 0, 0, 0, 0, 0, 0, 0, 0, 1, 0, 0, 0, 0, 0, 0, 0, 0, 0, 0, 0, 0, 0, 0, 0, 0, 0, 0, 0, 0, 0, 0, 0, 0, 0, 0, 0, 1, 1, 0, 1, 1, 1, 1, 0, 1, 1, 1, 1, 1, 1, 1, 0, 1, 1, 0, 1, 1, 1, 0, 1, 1, 1, 1, 1, 1, 1, 0, 1, 1, 1, 0, 1, 0, 0, 1, 0, 1, 1, 0, 1, 1, 1, 0, 1, 1, 0, 1, 1, 0, 1, 1, 1, 1, 1, 1, 0, 1, 1, 1, 1, 1, 1, 1, 0, 1, 0, 1, 1, 1, 1, 1, 1, 1, 0, 1, 0, 1, 0, 0, 1, 1, 1, 1, 0, 1, 1, 0, 0, 0, 1, 1, 1, 1, 1, 1, 1, 0, 1, 1, 1, 0, 0, 1, 1, 0, 0, 0, 1, 1, 1, 1, 0, 1, 1, 1, 1, 1, 1, 1, 1, 1, 1, 1, 1, 1, 1, 1, 1, 1, 1, 1, 1, 1, 1, 1, 1, 1, 1, 1, 1, 1, 1, 1, 1, 1, 1, 1, 1, 1, 1, 1, 1, 1, 1, 1, 1, 1, 1, 1, 1, 1, 1, 1, 1, 1, 1, 1, 1, 1, 1, 0, 1, 1, 1, 1, 1, 1, 1, 1, 1, 1, 1, 1, 1, 1, 1, 1, 1, 1, 1, 1, 1, 1, 1, 1, 1, 1, 1, 1, 1, 1, 1, 1, 1, 1, 1, 1, 1, 1, 1, 1, 1, 1, 1, 1, 1, 1, 0, 1, 1, 1, 1, 1, 1, 1, 1, 1, 1, 1, 1, 1, 1, 0, 1, 1, 1, 1, 1, 1, 1, 1, 1, 1, 1, 1, 1, 1, 1, 1, 1, 1, 1, 1, 1, 1, 1, 1, 1, 1, 1, 1, 0, 1, 1, 1, 1, 1, 1, 1, 1, 1, 1, 1, 1, 1, 1, 1, 1, 1, 1, 1, 1, 1, 1, 1, 1, 1, 1, 1, 1, 0, 1, 1, 1, 1, 1, 1, 1, 0, 1, 1, 1, 1, 1, 1, 1, 1, 1, 1, 1, 1, 1, 1, 1, 1, 1, 1, 1, 1, 1, 1, 1, 0, 1, 1, 1, 1, 1, 0, 1, 1, 1, 1, 1, 1, 1, 1, 1, 0, 1, 1, 1, 1, 1, 1, 1, 0, 1, 1, 1, 1, 1, 1, 1, 1, 1, 1, 1, 1, 1, 1, 1, 1, 1, 1, 1, 1, 1, 1, 1, 1, 1, 1, 1, 1, 1, 1, 1, 1, 1, 1, 1, 1, 1, 1, 1, 1, 1, 1, 0, 1, 0, 0, 1, 0, 1, 0, 1, 1, 1, 1, 1, 1, 1, 1, 1, 1, 0, 1, 1, 1, 1, 1, 1, 1, 0, 1, 1, 1, 1, 1, 1, 1, 1, 1, 0, 1, 1, 1, 1, 1, 1, 1, 1, 0, 1, 1, 0, 1, 1, 1, 1, 1, 1, 1, 0, 1, 0, 1, 1, 1, 1, 1, 1, 1, 1, 1, 1, 1, 1, 1, 1, 1, 1, 1, 1, 1, 1, 1, 1, 1, 1, 1, 0, 1, 1, 1, 1, 1, 1, 1, 1, 1, 1, 1, 1, 1, 1, 1, 1, 1, 1, 1, 1, 1, 1, 1, 1, 1, 1, 0, 1, 1, 1, 1, 1, 1, 1, 1, 1, 1, 1, 1, 1, 1, 1, 1, 1, 1, 1, 1, 1, 1, 1, 1, 1, 1, 1, 0, 1, 1, 1, 1, 1, 1, 1, 1, 1, 1, 1, 1, 1, 1, 1, 1, 1, 1, 1, 1, 1, 1, 1, 1, 1, 1, 1, 1, 1, 1, 1, 1, 1, 1, 1, 1, 1, 1, 1, 1, 1, 1, 1, 1, 1, 1, 1, 1, 1, 1, 1, 1, 1, 1, 1, 1, 1, 1, 1, 1, 1, 1, 1, 1, 1, 1, 0, 0, 1, 1, 1, 1, 1, 1, 1, 1, 1, 1, 1, 1, 0, 1, 0, 1, 0, 1, 1, 1, 0, 1, 0, 1, 1, 1, 0, 1, 0, 1, 0, 1, 1, 1, 1, 1, 1, 1, 0, 1, 1, 1, 1, 1, 1, 1, 1, 1, 1, 1, 1, 1, 1, 1, 1, 0, 1, 1, 0, 1, 1, 1, 1, 1, 1, 1, 1, 1, 1, 1, 1, 1, 1, 1, 1, 0, 1, 1, 0, 1, 1, 0, 1, 1, 1, 1, 0, 1, 1, 1, 0, 1, 1, 1, 1, 1, 1, 1, 1, 1, 1, 1, 1, 1, 1, 1, 1, 1, 1, 1, 1, 1, 1, 1, 1, 1, 1, 1, 0, 1, 1, 1, 0, 1, 1, 1, 0, 1, 1, 1, 0, 1, 1, 1, 1, 1, 1, 1, 1, 1, 1, 1, 1, 1, 1, 0, 1, 1, 0, 1, 0, 1, 1, 1, 0, 0, 1, 0, 1, 0, 1, 1, 1, 1, 1, 0, 0, 0, 0, 0, 1, 1, 0, 1, 1, 1, 1, 1, 0, 0, 1, 0, 1, 0, 1, 1, 1, 0, 1, 1, 1, 1, 1, 0, 1, 0, 0, 0, 1, 1, 0, 1, 1, 1, 1, 1, 1, 1, 1, 1, 1, 1, 1, 1, 1, 1, 1, 1, 1, 1, 1, 0, 1, 1, 1, 1, 1, 1, 1, 1, 1, 1, 1, 1, 1, 1, 1, 1, 1, 1, 0, 1, 1, 1, 1, 1, 1, 1, 1, 1, 1, 1, 1, 1, 1, 1, 0, 1, 1, 1, 1, 1, 1, 1, 1, 1, 0, 1, 1, 1, 0, 1, 1, 1, 1, 1, 1, 1, 1, 1, 1, 1, 1, 1, 1, 1, 0, 1, 1, 1, 1, 1, 1, 1, 1, 1, 0, 1, 1, 1, 1, 1, 1, 0, 1, 1, 1, 1, 1, 1, 1, 1, 1, 1, 1, 1, 1, 1, 1, 0, 1, 1, 1, 1, 1, 1, 1, 1, 1, 1, 1, 1, 1, 1, 1, 1, 1, 1, 1, 1, 1, 1, 1, 1, 1, 0, 1, 1, 1, 1, 1, 1, 1, 1, 1, 1, 1, 1, 0, 1, 1, 1, 1, 1, 1, 1, 1, 1, 0, 1, 1, 1, 1, 1, 1, 1, 1, 1, 1, 1, 1, 0, 1, 1, 1, 1, 1, 1, 1, 1, 1, 1, 1, 0, 1, 0, 1, 0, 1, 1, 0, 1, 1, 0, 1, 1, 1, 1, 1, 1, 1, 1, 1, 1, 1, 0, 0, 1, 1, 1, 1, 1, 1, 1, 1, 1, 1, 1, 0, 1, 1, 1, 1, 1, 1, 1, 1, 0, 1, 1, 1, 1, 1, 1, 1, 1, 1, 1, 1, 1, 1, 1, 1, 1, 0, 1, 1, 1, 0, 1, 1, 0, 1, 1, 0, 1, 1, 1, 1, 1, 0, 1, 1, 1, 1, 1, 1, 1, 1, 1, 1, 1, 1, 1, 1, 1, 1, 1, 1, 1, 1, 1, 1, 1, 1, 1, 1, 1, 1, 1, 1, 1, 1, 1, 1, 0, 1, 1, 1, 1, 1, 1, 0, 1, 1, 1, 1, 1, 1, 1, 1, 1, 1, 1, 0, 1, 1, 1, 1, 1, 1, 1, 1, 1, 1, 1, 1, 1, 1, 1, 1, 1, 1, 1, 1, 0, 0, 0, 1, 1, 1, 1, 1, 1, 1, 1, 1, 1, 1, 1, 1, 1, 1, 0, 0, 1, 1, 1, 1, 1, 1, 1, 1, 1, 0, 0, 0, 1, 0, 1, 1, 0, 1, 1, 1, 0, 1, 1, 1, 1, 1, 1, 1, 0, 1, 0, 0, 1, 1, 0, 1, 0, 1, 1, 1, 1, 1, 0, 1, 1, 1, 1, 1, 1, 1, 0, 1, 1, 1, 0, 0, 0, 1, 1, 1, 0, 0, 0, 1, 0, 0, 1, 0, 1, 0, 0, 0, 1, 1, 1, 1, 0, 1, 0, 1, 0, 0, 1, 1, 0, 0, 1, 0, 1, 0, 1, 1, 0, 0, 0, 0, 1, 0, 1, 0, 0, 1, 0, 1, 1, 0, 1, 1, 0, 0, 1, 0, 0, 0, 1, 0, 0, 1, 1, 0, 1, 1, 1, 1, 1, 1, 1, 1, 0, 1, 1, 1, 0, 1, 1, 1, 1, 0, 1, 1, 0, 0, 1, 1, 1, 1, 0, 0, 0, 0, 0, 0, 1, 1, 1, 0, 1, 1, 0, 0, 0, 1, 0, 1, 0, 1, 0, 1, 1, 0, 1, 0, 1, 0, 0, 1, 1, 1, 1, 0, 1, 0, 0, 0, 1, 1, 1, 1, 1, 1, 0, 1, 0, 1, 0, 1, 1, 1, 1, 1, 1, 1, 1, 0, 0, 0, 1, 1, 1, 0, 1, 0, 0, 1, 1, 1, 1, 0, 0, 0, 1, 1, 1, 0, 0, 0, 0, 1, 1, 1, 0, 1, 1, 1, 0, 1, 1, 1, 1, 1, 0, 1, 1, 1, 1, 1, 1, 1, 1, 1, 0, 1, 1, 1, 1, 1, 0, 1, 1, 1, 0, 1, 0, 1, 1, 1, 0, 1, 1, 0, 1, 1, 1, 0, 0, 1, 1, 1, 1, 1, 1, 1, 0, 1, 1, 1, 1, 1, 1, 1, 0, 1, 1, 1, 1, 1, 1, 1, 1, 1, 1, 1, 1, 0, 0, 1, 1, 1, 1, 0, 1, 1, 1, 1, 1, 1, 0, 1, 1, 1, 0, 1, 1, 1, 1, 0, 1, 1, 0, 1, 1, 1, 1, 1, 1, 0, 1, 1, 1, 1, 1, 1, 0, 1, 1, 0, 1, 0, 1, 0, 1, 1, 0, 1, 1, 1, 1, 1, 1, 1, 0, 1, 1, 1, 1, 1, 1, 1, 1, 1, 1, 1, 1, 0, 1, 1, 1, 1, 0, 1, 0, 0, 1, 0, 0, 1, 1, 1, 1, 1, 0, 1, 1, 0, 1, 1, 1, 1, 0, 1, 0, 1, 1, 1, 1, 1, 0, 1, 0, 1, 0, 0, 1, 1, 0, 0, 1, 1, 1, 0, 0, 0, 1, 1, 1, 1, 1, 0, 1, 1, 1, 1, 0, 1, 0, 1, 1, 1, 1, 1, 1, 1, 0, 1, 1, 0, 1, 1, 1, 1, 1, 0, 1, 1, 1, 0, 0, 1, 1, 1, 0, 0, 1, 1, 1, 1, 1, 0, 1, 1, 1, 0, 1, 1, 1, 1, 1, 0, 1, 1, 1, 1, 1, 1, 1, 0, 1, 1, 1, 1, 1, 1, 1, 1, 0, 1, 1, 0, 1, 0, 1, 0, 1, 1, 1, 0, 0, 0, 1, 1, 1, 1, 1, 1, 0, 1, 1, 1, 1, 1, 0, 0, 0, 1, 1, 1, 1, 0, 1, 0, 1, 0, 1, 0, 1, 1, 0, 0, 0, 1, 0, 1, 1, 0, 1, 1, 1, 1, 1, 1, 0, 0, 1, 1, 0, 0, 1, 1, 1, 1, 1, 0, 0, 1, 1, 1, 1, 0, 0, 1, 0, 0, 0, 1, 1, 0, 1, 0, 0, 0, 1, 1, 1, 0, 1, 0, 1, 1, 1, 1, 1, 1, 1, 1, 0, 1, 1, 0, 1, 1, 1, 1, 1, 1, 1, 1, 1, 1, 1, 1, 1, 0, 0, 1, 0, 1, 1, 1, 1, 0, 0, 0, 1, 0, 1, 0, 1, 1, 1, 1, 0, 1, 1, 1, 0, 1, 1, 0, 0, 1, 1, 0, 0, 0, 1, 1, 0, 1, 0, 1, 1, 0, 0, 1, 1, 1, 0, 0, 0, 0, 1, 1, 0, 1, 1, 1, 0, 0, 0, 0, 0, 1, 1, 0, 1, 0, 0, 1, 1, 0, 0, 1, 1, 0, 1, 0, 0, 0, 1, 0, 1, 0, 1, 1, 1, 0, 0, 0, 1, 0, 1, 1, 0, 1, 0, 1, 1, 1, 1, 1, 1, 1, 1, 1, 1, 1, 1, 1, 1, 1, 1, 1, 0, 1, 1, 1, 1, 1, 1, 1, 1, 1, 1, 1, 1, 1, 0, 1, 1, 0, 1, 1, 1, 1, 1, 1, 0, 1, 1, 0, 1, 0, 1, 1, 0, 1, 1, 1, 1, 1, 0, 1, 1, 0, 1, 1, 0, 1, 1, 1, 1, 1, 1, 1, 0, 1, 1, 1, 1, 1, 1, 1, 0, 1, 0, 1, 1, 1, 0, 1, 0, 1, 0, 1, 0, 1, 1, 1, 1, 1, 1, 1, 1, 1, 1, 1, 1, 1, 1, 1, 1, 1, 1, 1, 1, 1, 1, 1, 1, 1, 1, 1, 0, 1, 1, 1, 1, 1, 0, 1, 1, 1, 1, 1, 1, 1, 1, 1, 1, 1, 1, 0, 1, 1, 1, 1, 1, 1, 1, 1, 1, 1, 1, 0, 1, 1, 0, 1, 1, 1, 1, 1, 0, 1, 1, 1, 1, 1, 0, 1, 0, 1, 1, 1, 1, 0, 1, 1, 1, 1, 1, 1, 1, 0, 1, 1, 1, 1, 1, 1, 1, 1, 1, 1, 1, 1, 0, 0, 1, 1, 1, 0, 1, 1, 1, 1, 1, 1, 1, 1, 1, 0, 1, 1, 1, 1, 1, 1, 1, 1, 1, 0, 0, 1, 1, 1, 1, 1, 1, 1, 1, 0, 1, 1, 1, 1, 1, 1, 0, 1, 0, 0, 1, 1, 1, 1, 1, 1, 1, 1, 1, 0, 0, 1, 1, 1, 1, 1, 1, 1, 1, 1, 1, 1, 1, 1, 0, 1, 0, 0, 1, 0, 1, 1, 1, 1, 1, 1, 1, 1, 1, 1, 0, 1, 1, 1, 0, 1, 0, 1, 1, 1, 1, 1, 1, 1, 1, 1, 0, 1, 1, 1, 1, 1, 0, 1, 1, 0, 1, 0, 1, 1, 1, 1, 1, 0, 1, 1, 1, 0, 1, 0, 1, 1, 0, 1, 0, 1, 0, 1, 1, 1, 1, 1, 1, 1, 1, 0, 0, 0, 1, 1, 1, 1, 1, 0, 1, 1, 1, 1, 0, 1, 1, 1, 1, 1, 1, 1, 0, 1, 1, 1, 1, 1, 1, 1, 1, 1, 1, 1, 1, 1, 1, 1, 1, 1, 1, 1, 1, 1, 1, 1, 1, 1, 1, 1, 1, 1, 1, 1, 1, 1, 1, 1, 1, 1, 1, 1, 1, 1, 1, 0, 1, 1, 1, 1, 1, 1, 0, 1, 1, 1, 1, 1, 0, 1, 1, 1, 0, 1, 1, 1, 1, 0, 0, 1, 0, 0, 0, 1, 1, 1, 1, 0, 1, 1, 1, 0, 1, 1, 1, 1, 1, 1, 1, 0, 1, 1, 1, 1, 1, 1, 1, 1, 1, 1, 1, 1, 1, 1, 1, 0, 0, 1, 1, 0, 0, 1, 1, 1, 1, 0, 1, 1, 1, 1, 1, 1, 1, 1, 1, 1, 1, 1, 1, 1, 0, 1, 1, 1, 1, 1, 1, 1, 1, 1, 0, 1, 1, 1, 1, 1, 1, 1, 1, 1, 1, 1, 1, 1, 1, 1, 1, 1, 0, 1, 1, 1, 1, 1, 1, 1, 1, 1, 1, 1, 1, 1, 1, 1, 1, 0, 1, 0, 1, 1, 0, 1, 0, 1, 1, 1, 1, 1, 0, 0, 1, 1, 1, 1, 1, 1, 0, 1, 1, 1, 0, 1, 1, 1, 1, 0, 1, 1, 1, 1, 1, 1, 1, 1, 1, 1, 1, 1, 1, 1, 0, 0, 1, 1, 1, 1, 1, 1, 1, 1, 1, 1, 1, 1, 1, 1, 1, 1, 1, 1, 1, 1, 1, 1, 1, 1, 1, 1, 1, 1, 1, 1, 1, 1, 1, 1, 1, 0, 1, 1, 1, 1, 1, 1, 1, 1, 1, 1, 1, 1, 1, 1, 1, 1, 1, 1, 1, 1, 1, 1, 1, 1, 1, 1, 1, 1, 1, 1, 1, 1, 1, 0, 1, 1, 1, 1, 1, 1, 1, 1, 1, 1, 1, 1, 1, 1, 1, 1, 1, 1, 1, 1, 1, 1, 0, 1, 1, 0, 1, 0, 1, 1, 1, 1, 0, 1, 1, 1, 1, 1, 1, 1, 1, 1, 1, 1, 1, 1, 1, 1, 1, 1, 1, 1, 0, 1, 1, 1, 1, 1, 1, 1, 1, 1, 1, 1, 1, 1, 1, 1, 1, 1, 1, 1, 1, 1, 1, 1, 1, 1, 1, 1, 1, 1, 1, 1, 1, 1, 1, 1, 1, 1, 1, 1, 1, 1, 0, 1, 1, 1, 1, 1, 1, 1, 1, 1, 0, 1, 1, 1, 0, 1, 1, 1, 1, 1, 1, 1, 1, 0, 1, 1, 0, 1, 1, 1, 1, 1, 0, 0, 1, 1, 1, 1, 1, 1, 1, 1, 1, 1, 1, 1, 0, 1, 1, 1, 1, 1, 1, 0, 1, 1, 1, 1, 1, 1, 1, 1, 1, 0, 0, 1, 1, 1, 1, 1, 0, 1, 1, 1, 1, 0, 1, 1, 1, 0, 1, 1, 1, 1, 1, 1, 1, 1, 1, 1, 1, 1, 1, 1, 1, 1, 1, 1, 1, 1, 1, 1, 1, 1, 0, 1, 1, 1, 1, 1, 1, 1, 1, 1, 1, 1, 1, 1, 1, 1, 1, 1, 1, 1, 0, 1, 1, 0, 1, 1, 1, 1, 1, 1, 0, 0, 1, 1, 1, 1, 1, 1, 1, 1, 1, 1, 1, 0, 1, 1, 0, 1, 1, 1, 1, 0, 1, 1, 1, 1, 1, 1, 0, 1, 1, 1, 0, 1, 1, 0, 1, 1, 0, 1, 1, 1, 0, 1, 0, 1, 1, 1, 1, 1, 1, 1, 1, 1, 1, 1, 1, 1, 1, 1, 1, 1, 1, 1, 1, 1, 1, 1, 1, 1, 1, 1, 1, 1, 1, 1, 1, 1, 1, 1, 1, 1, 1, 1, 1, 1, 1, 1, 1, 0, 1, 1, 1, 1, 1, 1, 1, 1, 1, 1, 1, 1, 1, 1, 1, 1, 1, 1, 1, 1, 1, 1, 1, 1, 1, 1, 1, 1, 1, 1, 1, 1, 1, 1, 1, 1, 1, 1, 1, 1, 1, 1, 1, 1, 1, 1, 1, 1, 1, 1, 0, 1, 1, 1, 1, 1, 1, 1, 1, 1, 1, 1, 1, 1, 1, 1, 1, 1, 0, 1, 1, 1, 1, 1, 1, 1, 1, 1, 1, 1, 1, 1, 1, 1, 1, 1, 1, 1, 1, 1, 1, 1, 1, 1, 1, 1, 1, 1, 1, 1, 1, 1, 1, 1, 1, 1, 0, 1, 1, 1, 1, 1, 1, 1, 0, 1, 1, 1, 1, 1, 1, 1, 1, 1, 1, 1, 1, 1, 1, 1, 1, 1, 0, 1, 0, 0, 1, 1, 1, 1, 1, 1, 1, 1, 1, 1, 1, 0, 0, 1, 1, 1, 0, 1, 1, 1, 0, 1, 1, 1, 1, 1, 1, 1, 1, 1, 0, 0, 1, 1, 1, 1, 1, 1, 1, 0, 1, 1, 0, 0, 1, 0, 1, 1, 1, 1, 1, 1, 1, 1, 1, 1, 1, 1, 1, 1, 1, 1, 1, 1, 1, 1, 1, 1, 1, 1, 1, 1, 1, 1, 1, 1, 1, 1, 1, 1, 1, 1, 1, 1, 1, 1, 1, 1, 1, 1, 1, 1, 1, 1, 1, 1, 1, 1, 1, 1, 1, 1, 1, 1, 1, 1, 1, 1, 1, 1, 1, 1, 1, 1, 1, 1, 1, 1, 1, 1, 1, 1, 1, 0, 1, 1, 1, 1, 1, 1, 1, 1, 1, 1, 1, 1, 1, 1, 1, 1, 1, 1, 1, 1, 1, 1, 1, 1, 1, 1, 1, 1, 1, 1, 1, 1, 1, 1, 1, 1, 1, 1, 0, 1, 1, 1, 1, 1, 1, 1, 1, 0, 1, 1, 1, 1, 1, 1, 0, 1, 0, 1, 1, 1, 1, 0, 1, 1, 1, 0, 1, 1, 1, 0, 0, 1, 1, 0, 1, 1, 1, 1, 1, 0, 1, 0, 1, 1, 1, 1, 1, 0, 0, 1, 1, 1, 0, 1, 1, 0, 0, 0, 1, 1, 0, 1, 0, 1, 1, 1, 1, 0, 1, 1, 1, 1, 1, 0, 1, 0, 1, 1, 1, 0, 0, 1, 1, 1, 1, 1, 1, 1, 1, 1, 1, 1, 1, 1, 1, 0, 1, 1, 1, 1, 1, 1, 1, 1, 1, 1, 0, 1, 1, 1, 1, 1, 1, 1, 0, 1, 1, 1, 1, 1, 1, 0, 0, 1, 0, 1, 1, 1, 0, 1, 1, 1, 1, 0, 1, 1, 0, 1, 1, 1, 0, 0, 1, 1, 1, 0, 0, 1, 0, 0, 1, 1, 0, 0, 0, 1, 0, 1, 1, 1, 0, 0, 1, 0, 0, 1, 0, 0, 0, 0, 0, 1, 1, 1, 0, 1, 1, 0, 0, 1, 1, 1, 1, 1, 1, 1, 1, 1, 1, 1, 0, 0, 1, 1, 1, 1, 0, 0, 0, 1, 1, 0, 1, 1, 0, 1, 1, 1, 0, 0, 1, 1, 1, 1, 0, 1, 0, 1, 0, 0, 0, 0, 0, 0, 0, 0, 1, 1, 1, 0, 1, 0, 1, 0, 0, 1, 1, 0, 0, 1, 1, 1, 1, 1, 1, 0, 1, 0, 1, 1, 1, 1, 0, 0, 1, 0, 0, 0, 1, 0, 0, 1, 0, 1, 1, 0, 0, 1, 1, 1, 0, 0, 1, 0, 1, 1, 0, 1, 0, 1, 0, 0, 1, 0, 1, 1, 0, 0, 1, 0, 1, 0, 0, 1, 0, 0, 1, 1, 1, 0, 0, 1, 0, 1, 1, 0, 0, 1, 0, 0, 1, 1, 0, 1, 0, 1, 0, 1, 1, 0, 1, 1, 1, 1, 1, 1, 0, 1, 1, 0, 1, 0, 0, 1, 0, 0, 1, 1, 0, 1, 0, 0, 0, 1, 1, 0, 1, 1, 1, 0, 1, 0, 0, 1, 1, 1, 1, 1, 1, 1, 1, 1, 1, 0, 0, 1, 0, 1, 0, 0, 0, 1, 1, 1, 1, 1, 1, 1, 1, 0, 1, 1, 1, 1, 1, 1, 1, 1, 0, 1, 1, 1, 1, 1, 1, 0, 0, 1, 0, 1, 1, 1, 1, 1, 1, 1, 1, 1, 1, 1, 0, 1, 1, 1, 1, 1, 0, 1, 1, 1, 1, 1, 1, 1, 0, 1, 1, 1, 1, 1, 1, 1, 1, 0, 1, 0, 1, 1, 0, 1, 0, 1, 1, 1, 1, 1, 1, 1, 0, 1, 1, 1, 1, 1, 1, 0, 0, 1, 0, 1, 0, 0, 1, 1, 0, 1, 0, 0, 0, 1, 0, 0, 0, 1, 1, 1, 0, 0, 1, 0, 0, 0, 0, 0, 0, 1, 1, 1, 0, 0, 0, 0, 1, 0, 0, 0, 0, 1, 1, 0, 0, 0, 0, 0, 0, 1, 0, 0, 1, 0, 0, 0, 0, 0, 0, 0, 0, 0, 0, 0, 1, 1, 0, 0, 0, 1, 1, 1, 0, 1, 1, 0, 0, 0, 0, 0, 1, 0, 0, 1, 1, 0, 0, 0, 0, 1, 0, 1, 1, 1, 1, 0, 0, 0, 1, 0, 1, 0, 0, 1, 0, 0, 0, 0, 1, 0, 0, 0, 1, 0, 0, 0, 1, 0, 0, 1, 0, 1, 0, 0, 0, 0, 1, 0, 0, 0, 1, 1, 1, 1, 1, 1, 1, 1, 1, 1, 1, 0, 1, 1, 1, 1, 1, 1, 1, 1, 1, 1, 1, 1, 1, 0, 1, 0, 1, 1, 1, 1, 0, 1, 1, 1, 1, 1, 1, 1, 1, 1, 0, 1, 1, 1, 1, 1, 1, 1, 1, 1, 1, 0, 1, 1, 0, 1, 1, 1, 1, 1, 1, 1, 1, 1, 1, 1, 1, 1, 1, 1, 1, 0, 1, 1, 1, 1, 1, 1, 1, 1, 1, 1, 1, 0, 1, 1, 1, 1, 0, 1, 1, 1, 1, 1, 0, 1, 0, 1, 1, 1, 1, 1, 1, 1, 1, 1, 1, 1, 1, 1, 1, 1, 1, 1, 1, 1, 1, 1]\n"
     ]
    }
   ],
   "source": [
    "print(cluster)"
   ]
  },
  {
   "cell_type": "code",
   "execution_count": 115,
   "id": "6d73cbde",
   "metadata": {},
   "outputs": [
    {
     "data": {
      "text/html": [
       "<div>\n",
       "<style scoped>\n",
       "    .dataframe tbody tr th:only-of-type {\n",
       "        vertical-align: middle;\n",
       "    }\n",
       "\n",
       "    .dataframe tbody tr th {\n",
       "        vertical-align: top;\n",
       "    }\n",
       "\n",
       "    .dataframe thead th {\n",
       "        text-align: right;\n",
       "    }\n",
       "</style>\n",
       "<table border=\"1\" class=\"dataframe\">\n",
       "  <thead>\n",
       "    <tr style=\"text-align: right;\">\n",
       "      <th></th>\n",
       "      <th>review</th>\n",
       "      <th>tokenized_reviews</th>\n",
       "      <th>rating</th>\n",
       "      <th>sentiment_label</th>\n",
       "      <th>Kmean_Pred</th>\n",
       "    </tr>\n",
       "  </thead>\n",
       "  <tbody>\n",
       "    <tr>\n",
       "      <th>2205</th>\n",
       "      <td>... a bounder, and a cad! 'If you can't come u...</td>\n",
       "      <td>[, bounder, and, cad, if, you, can, not, come,...</td>\n",
       "      <td>6</td>\n",
       "      <td>1</td>\n",
       "      <td>1</td>\n",
       "    </tr>\n",
       "    <tr>\n",
       "      <th>4624</th>\n",
       "      <td>Toy Story is a good movie. It has good charact...</td>\n",
       "      <td>[Toy, Story, be, good, movie, it, have, good, ...</td>\n",
       "      <td>6</td>\n",
       "      <td>1</td>\n",
       "      <td>1</td>\n",
       "    </tr>\n",
       "    <tr>\n",
       "      <th>84</th>\n",
       "      <td>Top Gun: Maverick is a good sequel to the orig...</td>\n",
       "      <td>[Top, Gun, maverick, be, good, sequel, to, the...</td>\n",
       "      <td>8</td>\n",
       "      <td>1</td>\n",
       "      <td>1</td>\n",
       "    </tr>\n",
       "    <tr>\n",
       "      <th>5258</th>\n",
       "      <td>Inferno (2016) might have a decent story, acti...</td>\n",
       "      <td>[Inferno, 2016, might, have, decent, story, ac...</td>\n",
       "      <td>2</td>\n",
       "      <td>0</td>\n",
       "      <td>0</td>\n",
       "    </tr>\n",
       "    <tr>\n",
       "      <th>5608</th>\n",
       "      <td>They say it's all in the writing. And this is ...</td>\n",
       "      <td>[they, say, it, be, all, in, the, writing, and...</td>\n",
       "      <td>5</td>\n",
       "      <td>0</td>\n",
       "      <td>1</td>\n",
       "    </tr>\n",
       "    <tr>\n",
       "      <th>5516</th>\n",
       "      <td>The producers promised us something new, and t...</td>\n",
       "      <td>[the, producer, promise, we, something, new, a...</td>\n",
       "      <td>10</td>\n",
       "      <td>1</td>\n",
       "      <td>0</td>\n",
       "    </tr>\n",
       "    <tr>\n",
       "      <th>702</th>\n",
       "      <td>Yes, Enigma in 2001 was a highly fictionalized...</td>\n",
       "      <td>[yes, Enigma, in, 2001, be, highly, fictionali...</td>\n",
       "      <td>2</td>\n",
       "      <td>0</td>\n",
       "      <td>1</td>\n",
       "    </tr>\n",
       "    <tr>\n",
       "      <th>3592</th>\n",
       "      <td>Having just watched this, I don't get the posi...</td>\n",
       "      <td>[having, just, watch, this, do, not, get, the,...</td>\n",
       "      <td>2</td>\n",
       "      <td>0</td>\n",
       "      <td>0</td>\n",
       "    </tr>\n",
       "    <tr>\n",
       "      <th>7494</th>\n",
       "      <td>Three hours of story and I had no reaction to ...</td>\n",
       "      <td>[three, hour, of, story, and, have, no, reacti...</td>\n",
       "      <td>1</td>\n",
       "      <td>0</td>\n",
       "      <td>0</td>\n",
       "    </tr>\n",
       "    <tr>\n",
       "      <th>168</th>\n",
       "      <td>Sure, this film is full of Cheddar, Red Leices...</td>\n",
       "      <td>[sure, this, film, be, full, of, Cheddar, Red,...</td>\n",
       "      <td>8</td>\n",
       "      <td>1</td>\n",
       "      <td>1</td>\n",
       "    </tr>\n",
       "  </tbody>\n",
       "</table>\n",
       "</div>"
      ],
      "text/plain": [
       "                                                 review  \\\n",
       "2205  ... a bounder, and a cad! 'If you can't come u...   \n",
       "4624  Toy Story is a good movie. It has good charact...   \n",
       "84    Top Gun: Maverick is a good sequel to the orig...   \n",
       "5258  Inferno (2016) might have a decent story, acti...   \n",
       "5608  They say it's all in the writing. And this is ...   \n",
       "5516  The producers promised us something new, and t...   \n",
       "702   Yes, Enigma in 2001 was a highly fictionalized...   \n",
       "3592  Having just watched this, I don't get the posi...   \n",
       "7494  Three hours of story and I had no reaction to ...   \n",
       "168   Sure, this film is full of Cheddar, Red Leices...   \n",
       "\n",
       "                                      tokenized_reviews  rating  \\\n",
       "2205  [, bounder, and, cad, if, you, can, not, come,...       6   \n",
       "4624  [Toy, Story, be, good, movie, it, have, good, ...       6   \n",
       "84    [Top, Gun, maverick, be, good, sequel, to, the...       8   \n",
       "5258  [Inferno, 2016, might, have, decent, story, ac...       2   \n",
       "5608  [they, say, it, be, all, in, the, writing, and...       5   \n",
       "5516  [the, producer, promise, we, something, new, a...      10   \n",
       "702   [yes, Enigma, in, 2001, be, highly, fictionali...       2   \n",
       "3592  [having, just, watch, this, do, not, get, the,...       2   \n",
       "7494  [three, hour, of, story, and, have, no, reacti...       1   \n",
       "168   [sure, this, film, be, full, of, Cheddar, Red,...       8   \n",
       "\n",
       "      sentiment_label  Kmean_Pred  \n",
       "2205                1           1  \n",
       "4624                1           1  \n",
       "84                  1           1  \n",
       "5258                0           0  \n",
       "5608                0           1  \n",
       "5516                1           0  \n",
       "702                 0           1  \n",
       "3592                0           0  \n",
       "7494                0           0  \n",
       "168                 1           1  "
      ]
     },
     "execution_count": 115,
     "metadata": {},
     "output_type": "execute_result"
    }
   ],
   "source": [
    "kmean_data['Kmean_Pred'] = cluster\n",
    "kmean_data.sample(10)"
   ]
  },
  {
   "cell_type": "code",
   "execution_count": 116,
   "id": "4b767c75",
   "metadata": {},
   "outputs": [],
   "source": [
    "kmean_data.to_csv('Kmeans_Predictions.csv')"
   ]
  },
  {
   "cell_type": "code",
   "execution_count": 100,
   "id": "800ab448",
   "metadata": {},
   "outputs": [
    {
     "name": "stdout",
     "output_type": "stream",
     "text": [
      "              precision    recall  f1-score   support\n",
      "\n",
      "           0       0.63      0.73      0.68      2873\n",
      "           1       0.88      0.82      0.85      6792\n",
      "\n",
      "    accuracy                           0.79      9665\n",
      "   macro avg       0.76      0.78      0.76      9665\n",
      "weighted avg       0.80      0.79      0.80      9665\n",
      "\n"
     ]
    },
    {
     "data": {
      "image/png": "[encoded data removed]",
      "text/plain": [
       "<Figure size 640x480 with 2 Axes>"
      ]
     },
     "metadata": {},
     "output_type": "display_data"
    }
   ],
   "source": [
    "tfidf_vect = TfidfVectorizer(stop_words=stopwords, min_df=5, binary=True)\n",
    "train = tfidf_vect.fit_transform(kmean_data[\"review\"])\n",
    "\n",
    "clusterer = KMeansClusterer(3, cosine_distance, repeats=20)\n",
    "clusters = clusterer.cluster(train.toarray(), assign_clusters=True)\n",
    "predicted = [clusterer.classify(v) for v in train.toarray()]\n",
    "\n",
    "confusion_df = pd.DataFrame(list(zip(kmean_data[\"sentiment_label\"].values, predicted)), columns=['label', 'cluster'])\n",
    "cross = pd.crosstab(index=confusion_df.cluster, columns=confusion_df.label)\n",
    "\n",
    "cluster = []\n",
    "for x in predicted:\n",
    "    cluster.append(cross.idxmax(axis=\"columns\")[x])\n",
    "print(classification_report(kmean_data[\"sentiment_label\"], cluster))\n",
    "\n",
    "definitions = ['Negative','Positive']\n",
    "con_matrix = confusion_matrix(kmean_data[\"sentiment_label\"], cluster)\n",
    "sns.heatmap(con_matrix, annot=True, xticklabels=definitions, yticklabels=definitions, fmt=\".0f\", cmap=\"crest\")\n",
    "plt.xlabel('Predicted') \n",
    "plt.ylabel('Actual') \n",
    "plt.show()"
   ]
  },
  {
   "cell_type": "code",
   "execution_count": 102,
   "id": "8682e1cc",
   "metadata": {},
   "outputs": [
    {
     "name": "stdout",
     "output_type": "stream",
     "text": [
      "              precision    recall  f1-score   support\n",
      "\n",
      "           0       0.71      0.28      0.40      2873\n",
      "           1       0.76      0.95      0.84      6792\n",
      "\n",
      "    accuracy                           0.75      9665\n",
      "   macro avg       0.73      0.62      0.62      9665\n",
      "weighted avg       0.74      0.75      0.71      9665\n",
      "\n"
     ]
    },
    {
     "data": {
      "image/png": "[encoded data removed]",
      "text/plain": [
       "<Figure size 640x480 with 2 Axes>"
      ]
     },
     "metadata": {},
     "output_type": "display_data"
    }
   ],
   "source": [
    "tfidf_vect = TfidfVectorizer(stop_words=stopwords, min_df=5, binary=True)\n",
    "train = tfidf_vect.fit_transform(kmean_data[\"review\"])\n",
    "\n",
    "clusterer = KMeansClusterer(5, cosine_distance, repeats=20)\n",
    "clusters = clusterer.cluster(train.toarray(), assign_clusters=True)\n",
    "predicted = [clusterer.classify(v) for v in train.toarray()]\n",
    "\n",
    "confusion_df = pd.DataFrame(list(zip(kmean_data[\"sentiment_label\"].values, predicted)), columns=['label', 'cluster'])\n",
    "cross = pd.crosstab(index=confusion_df.cluster, columns=confusion_df.label)\n",
    "\n",
    "cluster = []\n",
    "for x in predicted:\n",
    "    cluster.append(cross.idxmax(axis=\"columns\")[x])\n",
    "print(classification_report(kmean_data[\"sentiment_label\"], cluster))\n",
    "\n",
    "definitions = ['Negative','Positive']\n",
    "con_matrix = confusion_matrix(kmean_data[\"sentiment_label\"], cluster)\n",
    "sns.heatmap(con_matrix, annot=True, xticklabels=definitions, yticklabels=definitions, fmt=\".0f\", cmap=\"crest\")\n",
    "plt.xlabel('Predicted') \n",
    "plt.ylabel('Actual') \n",
    "plt.show()"
   ]
  }
 ],
 "metadata": {
  "kernelspec": {
   "display_name": "Python 3 (ipykernel)",
   "language": "python",
   "name": "python3"
  },
  "language_info": {
   "codemirror_mode": {
    "name": "ipython",
    "version": 3
   },
   "file_extension": ".py",
   "mimetype": "text/x-python",
   "name": "python",
   "nbconvert_exporter": "python",
   "pygments_lexer": "ipython3",
   "version": "3.9.12"
  }
 },
 "nbformat": 4,
 "nbformat_minor": 5
}
